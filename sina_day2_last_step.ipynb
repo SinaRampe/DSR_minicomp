{
 "cells": [
  {
   "cell_type": "code",
   "execution_count": 17,
   "id": "243f9d80",
   "metadata": {},
   "outputs": [],
   "source": [
    "import pandas as pd\n",
    "import numpy as np\n",
    "from category_encoders import TargetEncoder\n",
    "import matplotlib.pyplot as plt\n",
    "#from pandas_profiling import ProfileReport"
   ]
  },
  {
   "cell_type": "code",
   "execution_count": 18,
   "id": "9b67ca88",
   "metadata": {},
   "outputs": [
    {
     "name": "stderr",
     "output_type": "stream",
     "text": [
      "/Users/sinarampe/opt/anaconda3/envs/mini_comp/lib/python3.8/site-packages/IPython/core/interactiveshell.py:3457: DtypeWarning: Columns (7) have mixed types.Specify dtype option on import or set low_memory=False.\n",
      "  exec(code_obj, self.user_global_ns, self.user_ns)\n"
     ]
    }
   ],
   "source": [
    "train_data = pd.read_csv(\"../minicomp-rossman/data/train.csv\").reset_index(drop=True)\n",
    "store_data = pd.read_csv(\"../minicomp-rossman/data/store.csv\").reset_index(drop=True)\n",
    "\n",
    "store_data['CompetitionDistance'] = store_data['CompetitionDistance'].fillna(75000)"
   ]
  },
  {
   "cell_type": "code",
   "execution_count": 19,
   "id": "82fa9606",
   "metadata": {},
   "outputs": [],
   "source": [
    "def add_time_features(df):\n",
    "    df[\"Date\"] = pd.to_datetime(df[\"Date\"])\n",
    "    df['Year'] = df.Date.dt.year - 2013\n",
    "    df['Month'] = df.Date.dt.month\n",
    "    df['Day'] = df.Date.dt.day\n",
    "    df['DayOfWeek'] = df.Date.dt.dayofweek\n",
    "    df['WeekOfYear'] = df.Date.dt.isocalendar().week.astype(int)\n",
    "    df = df.drop(labels = \"Date\", axis=1)\n",
    "    return df"
   ]
  },
  {
   "cell_type": "code",
   "execution_count": 20,
   "id": "9080f8eb",
   "metadata": {},
   "outputs": [],
   "source": [
    "def drop_nans_nulls_closed(df):\n",
    "    df = df[df[\"Open\"]==1]\n",
    "    df = df[df[\"Sales\"]!=0]\n",
    "    df = df.dropna(subset = [\"Store\", \"Open\", \"Promo\", \"StateHoliday\", \"SchoolHoliday\", \"Sales\"])\n",
    "    df[\"StateHoliday\"].replace({0.0: \"0\"}, inplace=True)\n",
    "    return df"
   ]
  },
  {
   "cell_type": "code",
   "execution_count": 21,
   "id": "8251a3e7",
   "metadata": {},
   "outputs": [],
   "source": [
    "def drop_cols(df):\n",
    "    df = df.drop(labels = [\"Customers\"], axis=1)\n",
    "    return df"
   ]
  },
  {
   "cell_type": "code",
   "execution_count": 22,
   "id": "0f06d512",
   "metadata": {},
   "outputs": [],
   "source": [
    "train_data = add_time_features(train_data)\n",
    "train_data = drop_nans_nulls_closed(train_data)\n",
    "train_data = drop_cols(train_data)"
   ]
  },
  {
   "cell_type": "code",
   "execution_count": 23,
   "id": "624fe14a",
   "metadata": {},
   "outputs": [],
   "source": [
    "merged_train = pd.merge(train_data, store_data, how='left', on=\"Store\")"
   ]
  },
  {
   "cell_type": "code",
   "execution_count": 24,
   "id": "7a2cf9a9",
   "metadata": {},
   "outputs": [],
   "source": [
    "def recode(df, var_list=[]):\n",
    "    map_dict = {'0':0, 'a':1, 'b':2, 'c':3, 'd':4}\n",
    "    for v in var_list:\n",
    "        df[v].replace(map_dict, inplace=True)\n",
    "    return df\n",
    "\n",
    "merged_train = recode(merged_train, ['StoreType', 'Assortment', 'StateHoliday'])"
   ]
  },
  {
   "cell_type": "code",
   "execution_count": 25,
   "id": "cd9f7148",
   "metadata": {},
   "outputs": [],
   "source": [
    "def month_to_str(df):\n",
    "    map_dict = {1:'Jan', 2:'Feb', 3:'Mar', 4:'Apr', 5:'May', 6:'Jun', \\\n",
    "             7:'Jul', 8:'Aug', 9:'Sept', 10:'Oct', 11:'Nov', 12:'Dec'}\n",
    "    df['month_str'] = df.Month.map(map_dict)\n",
    "    return df\n",
    "\n",
    "merged_train = month_to_str(merged_train)"
   ]
  },
  {
   "cell_type": "code",
   "execution_count": 26,
   "id": "b854e0b3",
   "metadata": {},
   "outputs": [],
   "source": [
    "def check_promo(row):\n",
    "    if isinstance(row['PromoInterval'],str) and row['month_str'] in row['PromoInterval']:\n",
    "            return 1\n",
    "    else:\n",
    "            return 0"
   ]
  },
  {
   "cell_type": "code",
   "execution_count": 27,
   "id": "a54553e5",
   "metadata": {},
   "outputs": [],
   "source": [
    "merged_train['PromoMonth'] =  merged_train.apply(lambda row: check_promo(row),axis=1)    "
   ]
  },
  {
   "cell_type": "code",
   "execution_count": 28,
   "id": "a380b5e0",
   "metadata": {},
   "outputs": [],
   "source": [
    "merged_train['month_sin'] = np.sin(2 * np.pi * merged_train['Month']/12.0)\n",
    "merged_train['month_cos'] = np.cos(2 * np.pi * merged_train['Month']/12.0)\n",
    "\n",
    "merged_train['dayM_sin'] = np.sin(2 * np.pi * merged_train['Day']/30.0)\n",
    "merged_train['dayM_cos'] = np.cos(2 * np.pi * merged_train['Day']/30.0)"
   ]
  },
  {
   "cell_type": "code",
   "execution_count": 29,
   "id": "81bd0e8b",
   "metadata": {},
   "outputs": [],
   "source": [
    "encoder = TargetEncoder()\n",
    "merged_train['Store_encoded'] = encoder.fit_transform(merged_train['Store'], merged_train['Sales'])\n"
   ]
  },
  {
   "cell_type": "markdown",
   "id": "a9754edf",
   "metadata": {},
   "source": [
    "## load and prepare Holdout_data "
   ]
  },
  {
   "cell_type": "code",
   "execution_count": 30,
   "id": "304ebc45",
   "metadata": {},
   "outputs": [],
   "source": [
    "holdout_data = pd.read_csv(\"../minicomp-rossman/data/holdout_b29.csv\")"
   ]
  },
  {
   "cell_type": "code",
   "execution_count": 31,
   "id": "db64c45a",
   "metadata": {},
   "outputs": [],
   "source": [
    "holdout_data = holdout_data.rename(columns={\"Unnamed: 0\": \"Id\"})\n",
    "holdout_data[\"Id\"] = holdout_data[\"Id\"] + 1"
   ]
  },
  {
   "cell_type": "code",
   "execution_count": 32,
   "id": "e4935eaf",
   "metadata": {},
   "outputs": [],
   "source": [
    "def drop_nn(df):\n",
    "    df = df[df[\"Open\"]==1]\n",
    "    df = df.dropna(subset = [\"Store\", \"Open\", \"Promo\", \"StateHoliday\", \"SchoolHoliday\"])\n",
    "    df[\"StateHoliday\"].replace({0.0: \"0\"}, inplace=True)\n",
    "    return df"
   ]
  },
  {
   "cell_type": "code",
   "execution_count": 33,
   "id": "0e8db23b",
   "metadata": {},
   "outputs": [],
   "source": [
    "holdout_data = add_time_features(holdout_data)\n",
    "holdout_data = drop_nn(holdout_data)\n",
    "holdout_data = drop_cols(holdout_data)"
   ]
  },
  {
   "cell_type": "code",
   "execution_count": 34,
   "id": "28c65f05",
   "metadata": {},
   "outputs": [],
   "source": [
    "merged_holdout = pd.merge(holdout_data, store_data, how='left', on=\"Store\")\n",
    "merged_holdout = recode(merged_holdout, ['StoreType', 'Assortment', 'StateHoliday'])\n",
    "merged_holdout = month_to_str(merged_holdout)\n",
    "merged_holdout['PromoMonth'] =  merged_holdout.apply(lambda row: check_promo(row),axis=1)  "
   ]
  },
  {
   "cell_type": "code",
   "execution_count": 35,
   "id": "70cef44a",
   "metadata": {},
   "outputs": [],
   "source": [
    "merged_holdout['month_sin'] = np.sin(2 * np.pi * merged_holdout['Month']/12.0)\n",
    "merged_holdout['month_cos'] = np.cos(2 * np.pi * merged_holdout['Month']/12.0)\n",
    "\n",
    "merged_holdout['dayM_sin'] = np.sin(2 * np.pi * merged_holdout['Day']/30.0)\n",
    "merged_holdout['dayM_cos'] = np.cos(2 * np.pi * merged_holdout['Day']/30.0)"
   ]
  },
  {
   "cell_type": "code",
   "execution_count": 36,
   "id": "fe183714",
   "metadata": {},
   "outputs": [],
   "source": [
    "merged_holdout['Store_encoded'] = encoder.transform(merged_holdout['Store'])"
   ]
  },
  {
   "cell_type": "markdown",
   "id": "5361edca",
   "metadata": {},
   "source": [
    "#### ------------------------------"
   ]
  },
  {
   "cell_type": "code",
   "execution_count": 37,
   "id": "c2741fea",
   "metadata": {},
   "outputs": [],
   "source": [
    "train = merged_train.iloc[:int(0.9*train_data.shape[0]), :]\n",
    "eva = merged_train.iloc[int(0.9*train_data.shape[0]):int(0.95*train_data.shape[0]), :]\n",
    "test = merged_train.iloc[int(0.95*train_data.shape[0]):, :]"
   ]
  },
  {
   "cell_type": "code",
   "execution_count": 38,
   "id": "a94f49e3",
   "metadata": {},
   "outputs": [],
   "source": [
    "import xgboost as xgb\n",
    "from xgboost import plot_importance"
   ]
  },
  {
   "cell_type": "code",
   "execution_count": 39,
   "id": "56a6e51a",
   "metadata": {},
   "outputs": [],
   "source": [
    "target = 'Sales'\n",
    "\n",
    "my_features = ['month_sin', 'month_cos', 'dayM_sin', 'dayM_cos', \"Year\", 'Month', 'WeekOfYear', 'DayOfWeek','StateHoliday', 'SchoolHoliday', \n",
    "               'CompetitionDistance', 'Promo2', 'StoreType', 'Assortment', 'Open', 'Promo', \"PromoMonth\", \"Store_encoded\"]"
   ]
  },
  {
   "cell_type": "code",
   "execution_count": 40,
   "id": "3d5b0ae0",
   "metadata": {},
   "outputs": [],
   "source": [
    "params = {\"objective\": \"reg:squarederror\", \n",
    "          \"booster\" : \"gbtree\", \n",
    "          \"seed\": 10 }"
   ]
  },
  {
   "cell_type": "code",
   "execution_count": 41,
   "id": "0d998ed9",
   "metadata": {},
   "outputs": [],
   "source": [
    "def metric(preds, actuals):\n",
    "    preds = np.array(preds)\n",
    "    actuals = np.array(actuals)\n",
    "    preds = preds.reshape(-1)\n",
    "    actuals = actuals.reshape(-1)\n",
    "    assert preds.shape == actuals.shape\n",
    "    return 100 * np.linalg.norm((actuals - preds) / actuals) / np.sqrt(preds.shape[0])"
   ]
  },
  {
   "cell_type": "code",
   "execution_count": 42,
   "id": "a3e0125e",
   "metadata": {},
   "outputs": [],
   "source": [
    "def xgboost_experiment(vars_list, experiment_name, params, num_boost_round):\n",
    "    dtrain = xgb.DMatrix(train[vars_list], label=train['Sales'], enable_categorical=True)\n",
    "    deva = xgb.DMatrix(eva[vars_list], label=eva['Sales'])\n",
    "    dtest = xgb.DMatrix(test[vars_list], label=test['Sales'], enable_categorical=True)\n",
    "    \n",
    "    #train\n",
    "    xgb_model = xgb.train(params, dtrain, num_boost_round=num_boost_round, \n",
    "                      early_stopping_rounds=100, evals=[(deva, \"Eval\")], verbose_eval=False)\n",
    "\n",
    "    # make prediction\n",
    "    print('+++++ Results for experiment: ', experiment_name)\n",
    "    pred = xgb_model.predict(dtest)\n",
    "    print(\"Testerror\")\n",
    "    print(metric(test[target], pred))\n",
    "    pred = xgb_model.predict(dtrain)\n",
    "    print(\"Trainerror\")\n",
    "    print(metric(train[target], pred))\n",
    "    return xgb_model"
   ]
  },
  {
   "cell_type": "code",
   "execution_count": 43,
   "id": "6aa75a18",
   "metadata": {},
   "outputs": [],
   "source": [
    "#num_boost_round_list = [100, 500, 1000]\n",
    "\n",
    "#for n in num_boost_round_list:\n",
    "#    print('### Experiment with ', str(n), ' boosting rounds')\n",
    "#   xgboost_experiment(my_features, \"my_features\", params, n)"
   ]
  },
  {
   "cell_type": "code",
   "execution_count": 45,
   "id": "8f182402",
   "metadata": {},
   "outputs": [
    {
     "name": "stdout",
     "output_type": "stream",
     "text": [
      "+++++ Results for experiment:  final\n",
      "Testerror\n",
      "14.947331285130078\n",
      "Trainerror\n",
      "10.675767310457251\n"
     ]
    }
   ],
   "source": [
    "my_model = xgboost_experiment(my_features, \"final\", params, 1000)"
   ]
  },
  {
   "cell_type": "code",
   "execution_count": 101,
   "id": "45d05c7d",
   "metadata": {},
   "outputs": [
    {
     "data": {
      "text/plain": [
       "<AxesSubplot:title={'center':'Feature importance'}, xlabel='F score', ylabel='Features'>"
      ]
     },
     "execution_count": 101,
     "metadata": {},
     "output_type": "execute_result"
    },
    {
     "data": {
      "image/png": "[encoded data removed]",
      "text/plain": [
       "<Figure size 432x288 with 1 Axes>"
      ]
     },
     "metadata": {
      "needs_background": "light"
     },
     "output_type": "display_data"
    }
   ],
   "source": [
    "plot_importance(my_model)"
   ]
  },
  {
   "cell_type": "code",
   "execution_count": 28,
   "id": "d8499cf4",
   "metadata": {},
   "outputs": [
    {
     "data": {
      "text/html": [
       "<div>\n",
       "<style scoped>\n",
       "    .dataframe tbody tr th:only-of-type {\n",
       "        vertical-align: middle;\n",
       "    }\n",
       "\n",
       "    .dataframe tbody tr th {\n",
       "        vertical-align: top;\n",
       "    }\n",
       "\n",
       "    .dataframe thead th {\n",
       "        text-align: right;\n",
       "    }\n",
       "</style>\n",
       "<table border=\"1\" class=\"dataframe\">\n",
       "  <thead>\n",
       "    <tr style=\"text-align: right;\">\n",
       "      <th></th>\n",
       "      <th>Store</th>\n",
       "      <th>Year</th>\n",
       "      <th>Month</th>\n",
       "      <th>Day</th>\n",
       "      <th>WeekOfYear</th>\n",
       "      <th>DayOfWeek</th>\n",
       "      <th>StateHoliday</th>\n",
       "      <th>SchoolHoliday</th>\n",
       "      <th>CompetitionDistance</th>\n",
       "      <th>Promo2</th>\n",
       "      <th>StoreType</th>\n",
       "      <th>Assortment</th>\n",
       "      <th>Open</th>\n",
       "      <th>Promo</th>\n",
       "      <th>PromoMonth</th>\n",
       "    </tr>\n",
       "  </thead>\n",
       "  <tbody>\n",
       "    <tr>\n",
       "      <th>0</th>\n",
       "      <td>371</td>\n",
       "      <td>1</td>\n",
       "      <td>8</td>\n",
       "      <td>1</td>\n",
       "      <td>31</td>\n",
       "      <td>4</td>\n",
       "      <td>0</td>\n",
       "      <td>1</td>\n",
       "      <td>1970.0</td>\n",
       "      <td>1</td>\n",
       "      <td>4</td>\n",
       "      <td>3</td>\n",
       "      <td>1</td>\n",
       "      <td>1</td>\n",
       "      <td>1</td>\n",
       "    </tr>\n",
       "    <tr>\n",
       "      <th>1</th>\n",
       "      <td>372</td>\n",
       "      <td>1</td>\n",
       "      <td>8</td>\n",
       "      <td>1</td>\n",
       "      <td>31</td>\n",
       "      <td>4</td>\n",
       "      <td>0</td>\n",
       "      <td>1</td>\n",
       "      <td>4880.0</td>\n",
       "      <td>1</td>\n",
       "      <td>4</td>\n",
       "      <td>3</td>\n",
       "      <td>1</td>\n",
       "      <td>1</td>\n",
       "      <td>0</td>\n",
       "    </tr>\n",
       "    <tr>\n",
       "      <th>2</th>\n",
       "      <td>373</td>\n",
       "      <td>1</td>\n",
       "      <td>8</td>\n",
       "      <td>1</td>\n",
       "      <td>31</td>\n",
       "      <td>4</td>\n",
       "      <td>0</td>\n",
       "      <td>1</td>\n",
       "      <td>11120.0</td>\n",
       "      <td>1</td>\n",
       "      <td>4</td>\n",
       "      <td>3</td>\n",
       "      <td>1</td>\n",
       "      <td>1</td>\n",
       "      <td>0</td>\n",
       "    </tr>\n",
       "    <tr>\n",
       "      <th>3</th>\n",
       "      <td>380</td>\n",
       "      <td>1</td>\n",
       "      <td>8</td>\n",
       "      <td>1</td>\n",
       "      <td>31</td>\n",
       "      <td>4</td>\n",
       "      <td>0</td>\n",
       "      <td>1</td>\n",
       "      <td>2240.0</td>\n",
       "      <td>1</td>\n",
       "      <td>1</td>\n",
       "      <td>1</td>\n",
       "      <td>1</td>\n",
       "      <td>1</td>\n",
       "      <td>0</td>\n",
       "    </tr>\n",
       "    <tr>\n",
       "      <th>4</th>\n",
       "      <td>374</td>\n",
       "      <td>1</td>\n",
       "      <td>8</td>\n",
       "      <td>1</td>\n",
       "      <td>31</td>\n",
       "      <td>4</td>\n",
       "      <td>0</td>\n",
       "      <td>1</td>\n",
       "      <td>1150.0</td>\n",
       "      <td>0</td>\n",
       "      <td>1</td>\n",
       "      <td>1</td>\n",
       "      <td>1</td>\n",
       "      <td>1</td>\n",
       "      <td>0</td>\n",
       "    </tr>\n",
       "  </tbody>\n",
       "</table>\n",
       "</div>"
      ],
      "text/plain": [
       "   Store  Year  Month  Day  WeekOfYear  DayOfWeek  StateHoliday  \\\n",
       "0    371     1      8    1          31          4             0   \n",
       "1    372     1      8    1          31          4             0   \n",
       "2    373     1      8    1          31          4             0   \n",
       "3    380     1      8    1          31          4             0   \n",
       "4    374     1      8    1          31          4             0   \n",
       "\n",
       "   SchoolHoliday  CompetitionDistance  Promo2  StoreType  Assortment  Open  \\\n",
       "0              1               1970.0       1          4           3     1   \n",
       "1              1               4880.0       1          4           3     1   \n",
       "2              1              11120.0       1          4           3     1   \n",
       "3              1               2240.0       1          1           1     1   \n",
       "4              1               1150.0       0          1           1     1   \n",
       "\n",
       "   Promo  PromoMonth  \n",
       "0      1           1  \n",
       "1      1           0  \n",
       "2      1           0  \n",
       "3      1           0  \n",
       "4      1           0  "
      ]
     },
     "execution_count": 28,
     "metadata": {},
     "output_type": "execute_result"
    }
   ],
   "source": [
    "merged_holdout[my_features].head(5)"
   ]
  },
  {
   "cell_type": "code",
   "execution_count": 29,
   "id": "718890d1",
   "metadata": {},
   "outputs": [],
   "source": [
    "xgtest = xgb.DMatrix(merged_holdout[my_features])"
   ]
  },
  {
   "cell_type": "code",
   "execution_count": 30,
   "id": "8e9938d2",
   "metadata": {},
   "outputs": [],
   "source": [
    "pred = my_model.predict(xgtest)"
   ]
  },
  {
   "cell_type": "code",
   "execution_count": 31,
   "id": "09570e0f",
   "metadata": {},
   "outputs": [],
   "source": [
    "output = pd.DataFrame({'Id': holdout_data.Id, 'Sales': pred})\n",
    "output.to_csv('Submission2.csv', index=False)"
   ]
  },
  {
   "cell_type": "code",
   "execution_count": 32,
   "id": "468e4452",
   "metadata": {},
   "outputs": [
    {
     "data": {
      "text/html": [
       "<div>\n",
       "<style scoped>\n",
       "    .dataframe tbody tr th:only-of-type {\n",
       "        vertical-align: middle;\n",
       "    }\n",
       "\n",
       "    .dataframe tbody tr th {\n",
       "        vertical-align: top;\n",
       "    }\n",
       "\n",
       "    .dataframe thead th {\n",
       "        text-align: right;\n",
       "    }\n",
       "</style>\n",
       "<table border=\"1\" class=\"dataframe\">\n",
       "  <thead>\n",
       "    <tr style=\"text-align: right;\">\n",
       "      <th></th>\n",
       "      <th>Id</th>\n",
       "      <th>Sales</th>\n",
       "    </tr>\n",
       "  </thead>\n",
       "  <tbody>\n",
       "    <tr>\n",
       "      <th>0</th>\n",
       "      <td>1</td>\n",
       "      <td>8119.1110</td>\n",
       "    </tr>\n",
       "    <tr>\n",
       "      <th>1</th>\n",
       "      <td>2</td>\n",
       "      <td>10948.4300</td>\n",
       "    </tr>\n",
       "    <tr>\n",
       "      <th>2</th>\n",
       "      <td>3</td>\n",
       "      <td>6395.9316</td>\n",
       "    </tr>\n",
       "    <tr>\n",
       "      <th>3</th>\n",
       "      <td>4</td>\n",
       "      <td>20013.1300</td>\n",
       "    </tr>\n",
       "    <tr>\n",
       "      <th>4</th>\n",
       "      <td>5</td>\n",
       "      <td>10836.1730</td>\n",
       "    </tr>\n",
       "  </tbody>\n",
       "</table>\n",
       "</div>"
      ],
      "text/plain": [
       "   Id       Sales\n",
       "0   1   8119.1110\n",
       "1   2  10948.4300\n",
       "2   3   6395.9316\n",
       "3   4  20013.1300\n",
       "4   5  10836.1730"
      ]
     },
     "execution_count": 32,
     "metadata": {},
     "output_type": "execute_result"
    }
   ],
   "source": [
    "sub = pd.read_csv(\"Submission2.csv\")\n",
    "sub.head()"
   ]
  },
  {
   "cell_type": "code",
   "execution_count": null,
   "id": "f8566773",
   "metadata": {},
   "outputs": [],
   "source": []
  }
 ],
 "metadata": {
  "kernelspec": {
   "display_name": "mini_comp",
   "language": "python",
   "name": "mini_comp"
  },
  "language_info": {
   "codemirror_mode": {
    "name": "ipython",
    "version": 3
   },
   "file_extension": ".py",
   "mimetype": "text/x-python",
   "name": "python",
   "nbconvert_exporter": "python",
   "pygments_lexer": "ipython3",
   "version": "3.8.12"
  }
 },
 "nbformat": 4,
 "nbformat_minor": 5
}
