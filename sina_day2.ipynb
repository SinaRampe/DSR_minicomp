{
 "cells": [
  {
   "cell_type": "code",
   "execution_count": 48,
   "id": "243f9d80",
   "metadata": {},
   "outputs": [],
   "source": [
    "import pandas as pd\n",
    "#from pandas_profiling import ProfileReport"
   ]
  },
  {
   "cell_type": "code",
   "execution_count": 49,
   "id": "9b67ca88",
   "metadata": {},
   "outputs": [
    {
     "name": "stderr",
     "output_type": "stream",
     "text": [
      "/Users/sinarampe/opt/anaconda3/envs/mini_comp/lib/python3.8/site-packages/IPython/core/interactiveshell.py:3457: DtypeWarning: Columns (7) have mixed types.Specify dtype option on import or set low_memory=False.\n",
      "  exec(code_obj, self.user_global_ns, self.user_ns)\n"
     ]
    }
   ],
   "source": [
    "train_data = pd.read_csv(\"../minicomp-rossman/data/train.csv\").reset_index(drop=True)\n",
    "store_data = pd.read_csv(\"../minicomp-rossman/data/store.csv\").reset_index(drop=True)"
   ]
  },
  {
   "cell_type": "code",
   "execution_count": 52,
   "id": "4691ca16",
   "metadata": {},
   "outputs": [],
   "source": [
    "#profile = ProfileReport(store_data)\n",
    "#profile"
   ]
  },
  {
   "cell_type": "code",
   "execution_count": 53,
   "id": "82fa9606",
   "metadata": {},
   "outputs": [],
   "source": [
    "def add_time_features(df):\n",
    "    df[\"Date\"] = pd.to_datetime(df[\"Date\"])\n",
    "    df['Year'] = df.Date.dt.year - 2013\n",
    "    df['Month'] = df.Date.dt.month\n",
    "    df['Day'] = df.Date.dt.day\n",
    "    df['DayOfWeek'] = df.Date.dt.dayofweek\n",
    "    df['WeekOfYear'] = df.Date.dt.isocalendar().week.astype(int)\n",
    "    df = df.drop(labels = \"Date\", axis=1)\n",
    "    return df"
   ]
  },
  {
   "cell_type": "code",
   "execution_count": 54,
   "id": "9080f8eb",
   "metadata": {},
   "outputs": [],
   "source": [
    "def drop_nans_nulls_closed(df):\n",
    "    df = df[df[\"Open\"]==1]\n",
    "    df = df[df[\"Sales\"]!=0]\n",
    "    df = df.dropna(subset = [\"Store\", \"Open\", \"Promo\", \"StateHoliday\", \"SchoolHoliday\", \"Sales\"])\n",
    "    df[\"StateHoliday\"].replace({0.0: \"0\"}, inplace=True)\n",
    "    return df"
   ]
  },
  {
   "cell_type": "code",
   "execution_count": 55,
   "id": "8251a3e7",
   "metadata": {},
   "outputs": [],
   "source": [
    "def drop_cols(df):\n",
    "    df = df.drop(labels = [\"Customers\"], axis=1)\n",
    "    return df"
   ]
  },
  {
   "cell_type": "code",
   "execution_count": 56,
   "id": "0f06d512",
   "metadata": {},
   "outputs": [],
   "source": [
    "train_data = add_time_features(train_data)\n",
    "train_data = drop_nans_nulls_closed(train_data)\n",
    "train_data = drop_cols(train_data)"
   ]
  },
  {
   "cell_type": "code",
   "execution_count": 57,
   "id": "624fe14a",
   "metadata": {},
   "outputs": [],
   "source": [
    "merged_train = pd.merge(train_data, store_data, how='left', on=\"Store\")"
   ]
  },
  {
   "cell_type": "code",
   "execution_count": 58,
   "id": "7a2cf9a9",
   "metadata": {},
   "outputs": [],
   "source": [
    "def recode(df, var_list=[]):\n",
    "    map_dict = {'0':0, 'a':1, 'b':2, 'c':3, 'd':4}\n",
    "    for v in var_list:\n",
    "        df[v].replace(map_dict, inplace=True)\n",
    "    return df\n",
    "\n",
    "merged_train = recode(merged_train, ['StoreType', 'Assortment', 'StateHoliday'])"
   ]
  },
  {
   "cell_type": "code",
   "execution_count": 60,
   "id": "b70743c1",
   "metadata": {},
   "outputs": [],
   "source": [
    "def month_to_str(df):\n",
    "    map_dict = {1:'Jan', 2:'Feb', 3:'Mar', 4:'Apr', 5:'May', 6:'Jun', \\\n",
    "             7:'Jul', 8:'Aug', 9:'Sept', 10:'Oct', 11:'Nov', 12:'Dec'}\n",
    "    df['month_str'] = df.Month.map(map_dict)\n",
    "    return df\n",
    "\n",
    "merged_train = month_to_str(merged_train)"
   ]
  },
  {
   "cell_type": "code",
   "execution_count": 61,
   "id": "b02b14dc",
   "metadata": {},
   "outputs": [],
   "source": [
    "def check_promo(row):\n",
    "    if isinstance(row['PromoInterval'],str) and row['month_str'] in row['PromoInterval']:\n",
    "            return 1\n",
    "    else:\n",
    "            return 0"
   ]
  },
  {
   "cell_type": "code",
   "execution_count": 62,
   "id": "2949c4ac",
   "metadata": {},
   "outputs": [],
   "source": [
    "merged_train['PromoMonth'] =  merged_train.apply(lambda row: check_promo(row),axis=1)    "
   ]
  },
  {
   "cell_type": "code",
   "execution_count": 63,
   "id": "399b0f4d",
   "metadata": {},
   "outputs": [
    {
     "data": {
      "text/html": [
       "<div>\n",
       "<style scoped>\n",
       "    .dataframe tbody tr th:only-of-type {\n",
       "        vertical-align: middle;\n",
       "    }\n",
       "\n",
       "    .dataframe tbody tr th {\n",
       "        vertical-align: top;\n",
       "    }\n",
       "\n",
       "    .dataframe thead th {\n",
       "        text-align: right;\n",
       "    }\n",
       "</style>\n",
       "<table border=\"1\" class=\"dataframe\">\n",
       "  <thead>\n",
       "    <tr style=\"text-align: right;\">\n",
       "      <th></th>\n",
       "      <th>Store</th>\n",
       "      <th>DayOfWeek</th>\n",
       "      <th>Sales</th>\n",
       "      <th>Open</th>\n",
       "      <th>Promo</th>\n",
       "      <th>StateHoliday</th>\n",
       "      <th>SchoolHoliday</th>\n",
       "      <th>Year</th>\n",
       "      <th>Month</th>\n",
       "      <th>Day</th>\n",
       "      <th>...</th>\n",
       "      <th>Assortment</th>\n",
       "      <th>CompetitionDistance</th>\n",
       "      <th>CompetitionOpenSinceMonth</th>\n",
       "      <th>CompetitionOpenSinceYear</th>\n",
       "      <th>Promo2</th>\n",
       "      <th>Promo2SinceWeek</th>\n",
       "      <th>Promo2SinceYear</th>\n",
       "      <th>PromoInterval</th>\n",
       "      <th>month_str</th>\n",
       "      <th>PromoMonth</th>\n",
       "    </tr>\n",
       "  </thead>\n",
       "  <tbody>\n",
       "    <tr>\n",
       "      <th>0</th>\n",
       "      <td>353.0</td>\n",
       "      <td>1</td>\n",
       "      <td>3139.0</td>\n",
       "      <td>1.0</td>\n",
       "      <td>0.0</td>\n",
       "      <td>1</td>\n",
       "      <td>1.0</td>\n",
       "      <td>0</td>\n",
       "      <td>1</td>\n",
       "      <td>1</td>\n",
       "      <td>...</td>\n",
       "      <td>2</td>\n",
       "      <td>900.0</td>\n",
       "      <td>NaN</td>\n",
       "      <td>NaN</td>\n",
       "      <td>1</td>\n",
       "      <td>14.0</td>\n",
       "      <td>2013.0</td>\n",
       "      <td>Feb,May,Aug,Nov</td>\n",
       "      <td>Jan</td>\n",
       "      <td>0</td>\n",
       "    </tr>\n",
       "    <tr>\n",
       "      <th>1</th>\n",
       "      <td>335.0</td>\n",
       "      <td>1</td>\n",
       "      <td>2401.0</td>\n",
       "      <td>1.0</td>\n",
       "      <td>0.0</td>\n",
       "      <td>1</td>\n",
       "      <td>1.0</td>\n",
       "      <td>0</td>\n",
       "      <td>1</td>\n",
       "      <td>1</td>\n",
       "      <td>...</td>\n",
       "      <td>1</td>\n",
       "      <td>90.0</td>\n",
       "      <td>NaN</td>\n",
       "      <td>NaN</td>\n",
       "      <td>1</td>\n",
       "      <td>31.0</td>\n",
       "      <td>2013.0</td>\n",
       "      <td>Jan,Apr,Jul,Oct</td>\n",
       "      <td>Jan</td>\n",
       "      <td>1</td>\n",
       "    </tr>\n",
       "    <tr>\n",
       "      <th>2</th>\n",
       "      <td>512.0</td>\n",
       "      <td>1</td>\n",
       "      <td>2646.0</td>\n",
       "      <td>1.0</td>\n",
       "      <td>0.0</td>\n",
       "      <td>1</td>\n",
       "      <td>1.0</td>\n",
       "      <td>0</td>\n",
       "      <td>1</td>\n",
       "      <td>1</td>\n",
       "      <td>...</td>\n",
       "      <td>2</td>\n",
       "      <td>590.0</td>\n",
       "      <td>NaN</td>\n",
       "      <td>NaN</td>\n",
       "      <td>1</td>\n",
       "      <td>5.0</td>\n",
       "      <td>2013.0</td>\n",
       "      <td>Mar,Jun,Sept,Dec</td>\n",
       "      <td>Jan</td>\n",
       "      <td>0</td>\n",
       "    </tr>\n",
       "    <tr>\n",
       "      <th>3</th>\n",
       "      <td>494.0</td>\n",
       "      <td>1</td>\n",
       "      <td>3113.0</td>\n",
       "      <td>1.0</td>\n",
       "      <td>0.0</td>\n",
       "      <td>1</td>\n",
       "      <td>1.0</td>\n",
       "      <td>0</td>\n",
       "      <td>1</td>\n",
       "      <td>1</td>\n",
       "      <td>...</td>\n",
       "      <td>1</td>\n",
       "      <td>1260.0</td>\n",
       "      <td>6.0</td>\n",
       "      <td>2011.0</td>\n",
       "      <td>0</td>\n",
       "      <td>NaN</td>\n",
       "      <td>NaN</td>\n",
       "      <td>NaN</td>\n",
       "      <td>Jan</td>\n",
       "      <td>0</td>\n",
       "    </tr>\n",
       "    <tr>\n",
       "      <th>4</th>\n",
       "      <td>530.0</td>\n",
       "      <td>1</td>\n",
       "      <td>2907.0</td>\n",
       "      <td>1.0</td>\n",
       "      <td>0.0</td>\n",
       "      <td>1</td>\n",
       "      <td>1.0</td>\n",
       "      <td>0</td>\n",
       "      <td>1</td>\n",
       "      <td>1</td>\n",
       "      <td>...</td>\n",
       "      <td>3</td>\n",
       "      <td>18160.0</td>\n",
       "      <td>NaN</td>\n",
       "      <td>NaN</td>\n",
       "      <td>0</td>\n",
       "      <td>NaN</td>\n",
       "      <td>NaN</td>\n",
       "      <td>NaN</td>\n",
       "      <td>Jan</td>\n",
       "      <td>0</td>\n",
       "    </tr>\n",
       "  </tbody>\n",
       "</table>\n",
       "<p>5 rows × 22 columns</p>\n",
       "</div>"
      ],
      "text/plain": [
       "   Store  DayOfWeek   Sales  Open  Promo  StateHoliday  SchoolHoliday  Year  \\\n",
       "0  353.0          1  3139.0   1.0    0.0             1            1.0     0   \n",
       "1  335.0          1  2401.0   1.0    0.0             1            1.0     0   \n",
       "2  512.0          1  2646.0   1.0    0.0             1            1.0     0   \n",
       "3  494.0          1  3113.0   1.0    0.0             1            1.0     0   \n",
       "4  530.0          1  2907.0   1.0    0.0             1            1.0     0   \n",
       "\n",
       "   Month  Day  ...  Assortment  CompetitionDistance  \\\n",
       "0      1    1  ...           2                900.0   \n",
       "1      1    1  ...           1                 90.0   \n",
       "2      1    1  ...           2                590.0   \n",
       "3      1    1  ...           1               1260.0   \n",
       "4      1    1  ...           3              18160.0   \n",
       "\n",
       "   CompetitionOpenSinceMonth  CompetitionOpenSinceYear  Promo2  \\\n",
       "0                        NaN                       NaN       1   \n",
       "1                        NaN                       NaN       1   \n",
       "2                        NaN                       NaN       1   \n",
       "3                        6.0                    2011.0       0   \n",
       "4                        NaN                       NaN       0   \n",
       "\n",
       "   Promo2SinceWeek  Promo2SinceYear     PromoInterval  month_str PromoMonth  \n",
       "0             14.0           2013.0   Feb,May,Aug,Nov        Jan          0  \n",
       "1             31.0           2013.0   Jan,Apr,Jul,Oct        Jan          1  \n",
       "2              5.0           2013.0  Mar,Jun,Sept,Dec        Jan          0  \n",
       "3              NaN              NaN               NaN        Jan          0  \n",
       "4              NaN              NaN               NaN        Jan          0  \n",
       "\n",
       "[5 rows x 22 columns]"
      ]
     },
     "execution_count": 63,
     "metadata": {},
     "output_type": "execute_result"
    }
   ],
   "source": [
    "merged_train.head()"
   ]
  },
  {
   "cell_type": "code",
   "execution_count": 64,
   "id": "c2741fea",
   "metadata": {},
   "outputs": [],
   "source": [
    "train = merged_train.iloc[:int(0.9*train_data.shape[0]), :]\n",
    "eva = merged_train.iloc[int(0.9*train_data.shape[0]):int(0.95*train_data.shape[0]), :]\n",
    "test = merged_train.iloc[int(0.95*train_data.shape[0]):, :]"
   ]
  },
  {
   "cell_type": "code",
   "execution_count": 65,
   "id": "a94f49e3",
   "metadata": {},
   "outputs": [],
   "source": [
    "import xgboost as xgb\n",
    "from xgboost import plot_importance"
   ]
  },
  {
   "cell_type": "code",
   "execution_count": 66,
   "id": "56a6e51a",
   "metadata": {},
   "outputs": [],
   "source": [
    "target = 'Sales'\n",
    "\n",
    "my_features = ['Year', 'Month', 'Day', 'WeekOfYear', 'DayOfWeek','StateHoliday', 'SchoolHoliday', \n",
    "                           'CompetitionDistance', 'Promo2', 'StoreType', 'Assortment', 'Open', 'Promo', \"PromoMonth\"]"
   ]
  },
  {
   "cell_type": "code",
   "execution_count": 67,
   "id": "3d5b0ae0",
   "metadata": {},
   "outputs": [],
   "source": [
    "params = {\"objective\": \"reg:squarederror\", \n",
    "          \"booster\" : \"gbtree\", \n",
    "          \"seed\": 10 }"
   ]
  },
  {
   "cell_type": "code",
   "execution_count": 68,
   "id": "0d998ed9",
   "metadata": {},
   "outputs": [],
   "source": [
    "from sklearn.metrics import mean_squared_error\n",
    "from math import sqrt\n",
    "\n",
    "def compute_rmspe(actual, prediction):\n",
    "    \"\"\"\n",
    "    Computs RMSPE (root mean squared percentage error) between predictions from a model\n",
    "    and the actual values of the target variable.\n",
    "    \"\"\"\n",
    "    \n",
    "    rmspe = sqrt(mean_squared_error(actual, prediction)) / prediction.mean()\n",
    "    \n",
    "    # rounding to 2 decimal places\n",
    "    print('RMSPE is ', round(rmspe,2))\n",
    "    \n",
    "    return rmspe"
   ]
  },
  {
   "cell_type": "code",
   "execution_count": 69,
   "id": "a3e0125e",
   "metadata": {},
   "outputs": [],
   "source": [
    "def xgboost_experiment(vars_list, experiment_name, params, num_boost_round):\n",
    "    dtrain = xgb.DMatrix(train[vars_list], label=train['Sales'], enable_categorical=True)\n",
    "    deva = xgb.DMatrix(eva[vars_list], label=eva['Sales'])\n",
    "    dtest = xgb.DMatrix(test[vars_list], label=test['Sales'], enable_categorical=True)\n",
    "    \n",
    "    #train\n",
    "    xgb_model = xgb.train(params, dtrain, num_boost_round=num_boost_round, \n",
    "                      early_stopping_rounds=100, evals=[(deva, \"Eval\")], verbose_eval=False)\n",
    "\n",
    "    # make prediction\n",
    "    print('+++++ Results for experiment: ', experiment_name)\n",
    "    pred = xgb_model.predict(dtest)\n",
    "    print(\"Testerror\")\n",
    "    print(compute_rmspe(test[target], pred) / test[target].mean())\n",
    "    pred = xgb_model.predict(dtrain)\n",
    "    print(\"Trainerror\")\n",
    "    compute_rmspe(train[target], pred) \n",
    "    return xgb_model"
   ]
  },
  {
   "cell_type": "code",
   "execution_count": null,
   "id": "6aa75a18",
   "metadata": {},
   "outputs": [],
   "source": [
    "#num_boost_round_list = [100, 500, 1000]\n",
    "\n",
    "#for n in num_boost_round_list:\n",
    "#    print('### Experiment with ', str(n), ' boosting rounds')\n",
    "#   xgboost_experiment(my_features, \"my_features\", params, n)"
   ]
  },
  {
   "cell_type": "code",
   "execution_count": 77,
   "id": "63103c86",
   "metadata": {},
   "outputs": [
    {
     "name": "stdout",
     "output_type": "stream",
     "text": [
      "[12:45:38] WARNING: /Users/runner/miniforge3/conda-bld/xgboost-split_1643227205751/work/src/objective/regression_obj.cu:188: reg:linear is now deprecated in favor of reg:squarederror.\n",
      "+++++ Results for experiment:  final\n",
      "Testerror\n",
      "RMSPE is  0.2\n",
      "2.7841191932995542e-05\n",
      "Trainerror\n",
      "RMSPE is  0.15\n"
     ]
    }
   ],
   "source": [
    "my_model = xgboost_experiment(my_features, \"final\", params, 1000)"
   ]
  },
  {
   "cell_type": "code",
   "execution_count": 78,
   "id": "80cbedd7",
   "metadata": {},
   "outputs": [
    {
     "data": {
      "text/plain": [
       "<AxesSubplot:title={'center':'Feature importance'}, xlabel='F score', ylabel='Features'>"
      ]
     },
     "execution_count": 78,
     "metadata": {},
     "output_type": "execute_result"
    }
   ],
   "source": [
    "plot_importance(my_model)"
   ]
  },
  {
   "cell_type": "code",
   "execution_count": null,
   "id": "304ebc45",
   "metadata": {},
   "outputs": [],
   "source": []
  }
 ],
 "metadata": {
  "kernelspec": {
   "display_name": "mini_comp",
   "language": "python",
   "name": "mini_comp"
  },
  "language_info": {
   "codemirror_mode": {
    "name": "ipython",
    "version": 3
   },
   "file_extension": ".py",
   "mimetype": "text/x-python",
   "name": "python",
   "nbconvert_exporter": "python",
   "pygments_lexer": "ipython3",
   "version": "3.8.12"
  }
 },
 "nbformat": 4,
 "nbformat_minor": 5
}
