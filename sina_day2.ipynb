{
 "cells": [
  {
   "cell_type": "code",
   "execution_count": 84,
   "id": "243f9d80",
   "metadata": {},
   "outputs": [],
   "source": [
    "import pandas as pd"
   ]
  },
  {
   "cell_type": "code",
   "execution_count": 85,
   "id": "9b67ca88",
   "metadata": {},
   "outputs": [
    {
     "name": "stderr",
     "output_type": "stream",
     "text": [
      "/Users/sinarampe/opt/anaconda3/envs/mini_comp/lib/python3.8/site-packages/IPython/core/interactiveshell.py:3457: DtypeWarning: Columns (7) have mixed types.Specify dtype option on import or set low_memory=False.\n",
      "  exec(code_obj, self.user_global_ns, self.user_ns)\n"
     ]
    }
   ],
   "source": [
    "train_data = pd.read_csv(\"../minicomp-rossman/data/train.csv\").reset_index(drop=True)\n",
    "store_data = pd.read_csv(\"../minicomp-rossman/data/store.csv\").reset_index(drop=True)"
   ]
  },
  {
   "cell_type": "code",
   "execution_count": 86,
   "id": "a9e42bfd",
   "metadata": {},
   "outputs": [
    {
     "data": {
      "text/html": [
       "<div>\n",
       "<style scoped>\n",
       "    .dataframe tbody tr th:only-of-type {\n",
       "        vertical-align: middle;\n",
       "    }\n",
       "\n",
       "    .dataframe tbody tr th {\n",
       "        vertical-align: top;\n",
       "    }\n",
       "\n",
       "    .dataframe thead th {\n",
       "        text-align: right;\n",
       "    }\n",
       "</style>\n",
       "<table border=\"1\" class=\"dataframe\">\n",
       "  <thead>\n",
       "    <tr style=\"text-align: right;\">\n",
       "      <th></th>\n",
       "      <th>Date</th>\n",
       "      <th>Store</th>\n",
       "      <th>DayOfWeek</th>\n",
       "      <th>Sales</th>\n",
       "      <th>Customers</th>\n",
       "      <th>Open</th>\n",
       "      <th>Promo</th>\n",
       "      <th>StateHoliday</th>\n",
       "      <th>SchoolHoliday</th>\n",
       "    </tr>\n",
       "  </thead>\n",
       "  <tbody>\n",
       "    <tr>\n",
       "      <th>0</th>\n",
       "      <td>2013-01-01</td>\n",
       "      <td>1115.0</td>\n",
       "      <td>2.0</td>\n",
       "      <td>0.0</td>\n",
       "      <td>0.0</td>\n",
       "      <td>0.0</td>\n",
       "      <td>0.0</td>\n",
       "      <td>a</td>\n",
       "      <td>1.0</td>\n",
       "    </tr>\n",
       "    <tr>\n",
       "      <th>1</th>\n",
       "      <td>2013-01-01</td>\n",
       "      <td>379.0</td>\n",
       "      <td>2.0</td>\n",
       "      <td>0.0</td>\n",
       "      <td>0.0</td>\n",
       "      <td>0.0</td>\n",
       "      <td>0.0</td>\n",
       "      <td>a</td>\n",
       "      <td>1.0</td>\n",
       "    </tr>\n",
       "    <tr>\n",
       "      <th>2</th>\n",
       "      <td>2013-01-01</td>\n",
       "      <td>378.0</td>\n",
       "      <td>2.0</td>\n",
       "      <td>0.0</td>\n",
       "      <td>0.0</td>\n",
       "      <td>0.0</td>\n",
       "      <td>0.0</td>\n",
       "      <td>a</td>\n",
       "      <td>1.0</td>\n",
       "    </tr>\n",
       "    <tr>\n",
       "      <th>3</th>\n",
       "      <td>2013-01-01</td>\n",
       "      <td>377.0</td>\n",
       "      <td>2.0</td>\n",
       "      <td>0.0</td>\n",
       "      <td>0.0</td>\n",
       "      <td>0.0</td>\n",
       "      <td>0.0</td>\n",
       "      <td>a</td>\n",
       "      <td>1.0</td>\n",
       "    </tr>\n",
       "  </tbody>\n",
       "</table>\n",
       "</div>"
      ],
      "text/plain": [
       "        Date   Store  DayOfWeek  Sales  Customers  Open  Promo StateHoliday  \\\n",
       "0 2013-01-01  1115.0        2.0    0.0        0.0   0.0    0.0            a   \n",
       "1 2013-01-01   379.0        2.0    0.0        0.0   0.0    0.0            a   \n",
       "2 2013-01-01   378.0        2.0    0.0        0.0   0.0    0.0            a   \n",
       "3 2013-01-01   377.0        2.0    0.0        0.0   0.0    0.0            a   \n",
       "\n",
       "   SchoolHoliday  \n",
       "0            1.0  \n",
       "1            1.0  \n",
       "2            1.0  \n",
       "3            1.0  "
      ]
     },
     "execution_count": 86,
     "metadata": {},
     "output_type": "execute_result"
    }
   ],
   "source": [
    "train_data.Date = pd.to_datetime(train_data.Date)\n",
    "train_data.head(4)"
   ]
  },
  {
   "cell_type": "code",
   "execution_count": 87,
   "id": "82fa9606",
   "metadata": {},
   "outputs": [],
   "source": [
    "def add_time_features(df):\n",
    "    df['Year'] = df.Date.dt.year - 2013\n",
    "    df['Month'] = df.Date.dt.month\n",
    "    df['Day'] = df.Date.dt.day\n",
    "    df['DayOfWeek'] = df.Date.dt.dayofweek\n",
    "    df['WeekOfYear'] = df.Date.dt.isocalendar().week.astype(int)\n",
    "    df = df.drop(labels = \"Date\", axis=1)\n",
    "    return df"
   ]
  },
  {
   "cell_type": "code",
   "execution_count": 88,
   "id": "9080f8eb",
   "metadata": {},
   "outputs": [],
   "source": [
    "def drop_nans_nulls_closed(df):\n",
    "    df = df[df[\"Open\"]==1]\n",
    "    df = df[df[\"Sales\"]!=0]\n",
    "    df = df.dropna(subset = [\"Store\", \"Open\", \"Promo\", \"StateHoliday\", \"SchoolHoliday\", \"Sales\"])\n",
    "    df[\"StateHoliday\"].replace({0.0: \"0\"}, inplace=True)\n",
    "    return df"
   ]
  },
  {
   "cell_type": "code",
   "execution_count": 89,
   "id": "8251a3e7",
   "metadata": {},
   "outputs": [],
   "source": [
    "def drop_cols(df):\n",
    "    df = df.drop(labels = [\"Customers\"], axis=1)\n",
    "    return df"
   ]
  },
  {
   "cell_type": "code",
   "execution_count": 90,
   "id": "0f06d512",
   "metadata": {},
   "outputs": [],
   "source": [
    "train_data = add_time_features(train_data)\n",
    "train_data = drop_nans_nulls_closed(train_data)\n",
    "train_data = drop_cols(train_data)"
   ]
  },
  {
   "cell_type": "code",
   "execution_count": 91,
   "id": "624fe14a",
   "metadata": {},
   "outputs": [],
   "source": [
    "merged_train = pd.merge(train_data, store_data, how='left', on=\"Store\")"
   ]
  },
  {
   "cell_type": "code",
   "execution_count": 92,
   "id": "399b0f4d",
   "metadata": {},
   "outputs": [
    {
     "data": {
      "text/plain": [
       "(439929, 20)"
      ]
     },
     "execution_count": 92,
     "metadata": {},
     "output_type": "execute_result"
    }
   ],
   "source": [
    "merged_train.shape"
   ]
  },
  {
   "cell_type": "code",
   "execution_count": 93,
   "id": "7a2cf9a9",
   "metadata": {},
   "outputs": [],
   "source": [
    "def recode(df, var_list=[]):\n",
    "    map_dict = {'0':0, 'a':1, 'b':2, 'c':3, 'd':4}\n",
    "    for v in var_list:\n",
    "        df[v].replace(map_dict, inplace=True)\n",
    "    return df"
   ]
  },
  {
   "cell_type": "code",
   "execution_count": 94,
   "id": "8495716a",
   "metadata": {},
   "outputs": [],
   "source": [
    "merged_train = recode(merged_train, ['StoreType', 'Assortment', 'StateHoliday'])"
   ]
  },
  {
   "cell_type": "code",
   "execution_count": 95,
   "id": "c2741fea",
   "metadata": {},
   "outputs": [],
   "source": [
    "train = merged_train.iloc[:int(0.9*train_data.shape[0]), :]\n",
    "eva = merged_train.iloc[int(0.9*train_data.shape[0]):int(0.95*train_data.shape[0]), :]\n",
    "test = merged_train.iloc[int(0.95*train_data.shape[0]):, :]"
   ]
  },
  {
   "cell_type": "code",
   "execution_count": 96,
   "id": "a94f49e3",
   "metadata": {},
   "outputs": [],
   "source": [
    "import xgboost as xgb\n",
    "from xgboost import plot_importance"
   ]
  },
  {
   "cell_type": "code",
   "execution_count": 97,
   "id": "56a6e51a",
   "metadata": {},
   "outputs": [],
   "source": [
    "target = 'Sales'\n",
    "\n",
    "feat_dict = {'only_time' : ['Year', 'Month', 'Day', 'WeekOfYear', 'DayOfWeek', 'StateHoliday', 'SchoolHoliday', 'Open'],\n",
    "             'only_comp' : ['CompetitionDistance', 'Promo2', 'Open', 'Promo'],\n",
    "             'only_store' : ['StoreType', 'Assortment', 'Open'],\n",
    "             'all_feat' : ['Year', 'Month', 'Day', 'WeekOfYear', 'DayOfWeek','StateHoliday', 'SchoolHoliday', \n",
    "                           'CompetitionDistance', 'Promo2', 'StoreType', 'Assortment', 'Open', 'Promo']}"
   ]
  },
  {
   "cell_type": "code",
   "execution_count": 98,
   "id": "3d5b0ae0",
   "metadata": {},
   "outputs": [],
   "source": [
    "params = {\"objective\": \"reg:squarederror\", \n",
    "          \"booster\" : \"gbtree\", \n",
    "          \"seed\": 10 }"
   ]
  },
  {
   "cell_type": "code",
   "execution_count": 99,
   "id": "0d998ed9",
   "metadata": {},
   "outputs": [],
   "source": [
    "from sklearn.metrics import mean_squared_error\n",
    "from math import sqrt\n",
    "\n",
    "def compute_rmse(actual, prediction):\n",
    "    \"\"\"\n",
    "    Computs RMSE (root mean squared error) between predictions from a model\n",
    "    and the actual values of the target variable.\n",
    "    \"\"\"\n",
    "    \n",
    "    rmse = sqrt(mean_squared_error(actual, prediction))\n",
    "    \n",
    "    # rounding to 2 decimal places\n",
    "    print('RMSE is ', round(rmse,2))\n",
    "    \n",
    "    return rmse"
   ]
  },
  {
   "cell_type": "code",
   "execution_count": 100,
   "id": "a3e0125e",
   "metadata": {},
   "outputs": [],
   "source": [
    "def xgboost_experiment(vars_list, experiment_name, params, num_boost_round):\n",
    "    dtrain = xgb.DMatrix(train[vars_list], label=train['Sales'], enable_categorical=True)\n",
    "    deva = xgb.DMatrix(eva[vars_list], label=eva['Sales'])\n",
    "    dtest = xgb.DMatrix(test[vars_list], label=test['Sales'], enable_categorical=True)\n",
    "    \n",
    "    #train\n",
    "    xgb_model = xgb.train(params, dtrain, num_boost_round=num_boost_round, \n",
    "                      early_stopping_rounds=100, evals=[(deva, \"Eval\")], verbose_eval=False)\n",
    "\n",
    "    # make prediction\n",
    "    print('+++++ Results for experiment: ', experiment_name)\n",
    "    pred = xgb_model.predict(dtest)\n",
    "    print(\"Testerror\")\n",
    "    print(compute_rmse(test[target], pred) / test[target].mean())\n",
    "    pred = xgb_model.predict(dtrain)\n",
    "    print(\"Trainerror\")\n",
    "    compute_rmse(train[target], pred) \n",
    "    return xgb_model"
   ]
  },
  {
   "cell_type": "code",
   "execution_count": 101,
   "id": "ffbea54b",
   "metadata": {},
   "outputs": [
    {
     "name": "stdout",
     "output_type": "stream",
     "text": [
      "+++++ Results for experiment:  only_time\n",
      "Testerror\n",
      "RMSE is  2841.2\n",
      "0.39987722406257065\n",
      "Trainerror\n",
      "RMSE is  2744.66\n"
     ]
    },
    {
     "data": {
      "text/plain": [
       "<xgboost.core.Booster at 0x7f976a021c40>"
      ]
     },
     "execution_count": 101,
     "metadata": {},
     "output_type": "execute_result"
    },
    {
     "name": "stdout",
     "output_type": "stream",
     "text": [
      "+++++ Results for experiment:  only_comp\n",
      "Testerror\n",
      "RMSE is  2574.55\n",
      "0.36234825613971255\n",
      "Trainerror\n",
      "RMSE is  2548.47\n"
     ]
    },
    {
     "data": {
      "text/plain": [
       "<xgboost.core.Booster at 0x7f976a021850>"
      ]
     },
     "execution_count": 101,
     "metadata": {},
     "output_type": "execute_result"
    },
    {
     "name": "stdout",
     "output_type": "stream",
     "text": [
      "+++++ Results for experiment:  only_store\n",
      "Testerror\n",
      "RMSE is  3124.98\n",
      "0.43981676325714436\n",
      "Trainerror\n",
      "RMSE is  3017.14\n"
     ]
    },
    {
     "data": {
      "text/plain": [
       "<xgboost.core.Booster at 0x7f976a021dc0>"
      ]
     },
     "execution_count": 101,
     "metadata": {},
     "output_type": "execute_result"
    },
    {
     "name": "stdout",
     "output_type": "stream",
     "text": [
      "+++++ Results for experiment:  all_feat\n",
      "Testerror\n",
      "RMSE is  2487.88\n",
      "0.3501503816378751\n",
      "Trainerror\n",
      "RMSE is  2404.07\n"
     ]
    },
    {
     "data": {
      "text/plain": [
       "<xgboost.core.Booster at 0x7f976a021e80>"
      ]
     },
     "execution_count": 101,
     "metadata": {},
     "output_type": "execute_result"
    }
   ],
   "source": [
    "for f in feat_dict.keys():\n",
    "    xgboost_experiment(feat_dict[f], f, params, 10)"
   ]
  },
  {
   "cell_type": "code",
   "execution_count": null,
   "id": "6aa75a18",
   "metadata": {},
   "outputs": [
    {
     "name": "stdout",
     "output_type": "stream",
     "text": [
      "### Experiment with  100  boosting rounds\n",
      "+++++ Results for experiment:  all_feat\n",
      "Testerror\n",
      "RMSE is  1716.48\n",
      "0.2415809337098308\n",
      "Trainerror\n",
      "RMSE is  1530.42\n"
     ]
    },
    {
     "data": {
      "text/plain": [
       "<xgboost.core.Booster at 0x7f973801a190>"
      ]
     },
     "execution_count": 102,
     "metadata": {},
     "output_type": "execute_result"
    },
    {
     "name": "stdout",
     "output_type": "stream",
     "text": [
      "### Experiment with  1000  boosting rounds\n",
      "+++++ Results for experiment:  all_feat\n",
      "Testerror\n",
      "RMSE is  1444.5\n",
      "0.2033023173685384\n",
      "Trainerror\n",
      "RMSE is  1059.2\n"
     ]
    },
    {
     "data": {
      "text/plain": [
       "<xgboost.core.Booster at 0x7f9769a6ffa0>"
      ]
     },
     "execution_count": 102,
     "metadata": {},
     "output_type": "execute_result"
    },
    {
     "name": "stdout",
     "output_type": "stream",
     "text": [
      "### Experiment with  4000  boosting rounds\n"
     ]
    }
   ],
   "source": [
    "num_boost_round_list = [100, 1000]\n",
    "\n",
    "for n in num_boost_round_list:\n",
    "    print('### Experiment with ', str(n), ' boosting rounds')\n",
    "    xgboost_experiment(feat_dict['all_feat'], f, params, n)"
   ]
  },
  {
   "cell_type": "code",
   "execution_count": 82,
   "id": "09f0ca1a",
   "metadata": {},
   "outputs": [],
   "source": [
    "params = {\"objective\": \"reg:linear\", #since it is a regression problem\n",
    "          \"booster\" : \"gbtree\",     #tree\n",
    "          \"eta\": 0.05,              #learning rate   to reduce overfitting issues\n",
    "          \"max_depth\": 10,          #depth of the tree\n",
    "          \"subsample\": 0.9,         #subsample the data prior to growing trees - overcomes overfitting\n",
    "          \"colsample_bytree\": 0.7,  #subsampling of columns for each tree\n",
    "          \"seed\": 10                \n",
    "          }"
   ]
  },
  {
   "cell_type": "code",
   "execution_count": 83,
   "id": "f7dd3d72",
   "metadata": {},
   "outputs": [
    {
     "name": "stdout",
     "output_type": "stream",
     "text": [
      "[11:03:55] WARNING: /Users/runner/miniforge3/conda-bld/xgboost-split_1643227205751/work/src/objective/regression_obj.cu:188: reg:linear is now deprecated in favor of reg:squarederror.\n"
     ]
    },
    {
     "ename": "KeyboardInterrupt",
     "evalue": "",
     "output_type": "error",
     "traceback": [
      "\u001b[0;31m---------------------------------------------------------------------------\u001b[0m",
      "\u001b[0;31mKeyboardInterrupt\u001b[0m                         Traceback (most recent call last)",
      "\u001b[0;32m/var/folders/0l/vrnj4cj121dgbf75nczzbz100000gn/T/ipykernel_9534/4283911514.py\u001b[0m in \u001b[0;36m<module>\u001b[0;34m\u001b[0m\n\u001b[0;32m----> 1\u001b[0;31m \u001b[0mmodel1\u001b[0m \u001b[0;34m=\u001b[0m \u001b[0mxgboost_experiment\u001b[0m\u001b[0;34m(\u001b[0m\u001b[0mfeat_dict\u001b[0m\u001b[0;34m[\u001b[0m\u001b[0;34m'all_feat'\u001b[0m\u001b[0;34m]\u001b[0m\u001b[0;34m,\u001b[0m \u001b[0;34m'test with different hyperparameters'\u001b[0m\u001b[0;34m,\u001b[0m \u001b[0mparams\u001b[0m\u001b[0;34m,\u001b[0m \u001b[0;36m1000\u001b[0m\u001b[0;34m)\u001b[0m\u001b[0;34m\u001b[0m\u001b[0;34m\u001b[0m\u001b[0m\n\u001b[0m",
      "\u001b[0;32m/var/folders/0l/vrnj4cj121dgbf75nczzbz100000gn/T/ipykernel_9534/2262786133.py\u001b[0m in \u001b[0;36mxgboost_experiment\u001b[0;34m(vars_list, experiment_name, params, num_boost_round)\u001b[0m\n\u001b[1;32m      5\u001b[0m \u001b[0;34m\u001b[0m\u001b[0m\n\u001b[1;32m      6\u001b[0m     \u001b[0;31m#train\u001b[0m\u001b[0;34m\u001b[0m\u001b[0;34m\u001b[0m\u001b[0;34m\u001b[0m\u001b[0m\n\u001b[0;32m----> 7\u001b[0;31m     xgb_model = xgb.train(params, dtrain, num_boost_round=num_boost_round, \n\u001b[0m\u001b[1;32m      8\u001b[0m                       early_stopping_rounds=100, evals=[(deva, \"Eval\")], verbose_eval=False)\n\u001b[1;32m      9\u001b[0m \u001b[0;34m\u001b[0m\u001b[0m\n",
      "\u001b[0;32m~/opt/anaconda3/envs/mini_comp/lib/python3.8/site-packages/xgboost/training.py\u001b[0m in \u001b[0;36mtrain\u001b[0;34m(params, dtrain, num_boost_round, evals, obj, feval, maximize, early_stopping_rounds, evals_result, verbose_eval, xgb_model, callbacks)\u001b[0m\n\u001b[1;32m    186\u001b[0m     \u001b[0mBooster\u001b[0m \u001b[0;34m:\u001b[0m \u001b[0ma\u001b[0m \u001b[0mtrained\u001b[0m \u001b[0mbooster\u001b[0m \u001b[0mmodel\u001b[0m\u001b[0;34m\u001b[0m\u001b[0;34m\u001b[0m\u001b[0m\n\u001b[1;32m    187\u001b[0m     \"\"\"\n\u001b[0;32m--> 188\u001b[0;31m     bst = _train_internal(params, dtrain,\n\u001b[0m\u001b[1;32m    189\u001b[0m                           \u001b[0mnum_boost_round\u001b[0m\u001b[0;34m=\u001b[0m\u001b[0mnum_boost_round\u001b[0m\u001b[0;34m,\u001b[0m\u001b[0;34m\u001b[0m\u001b[0;34m\u001b[0m\u001b[0m\n\u001b[1;32m    190\u001b[0m                           \u001b[0mevals\u001b[0m\u001b[0;34m=\u001b[0m\u001b[0mevals\u001b[0m\u001b[0;34m,\u001b[0m\u001b[0;34m\u001b[0m\u001b[0;34m\u001b[0m\u001b[0m\n",
      "\u001b[0;32m~/opt/anaconda3/envs/mini_comp/lib/python3.8/site-packages/xgboost/training.py\u001b[0m in \u001b[0;36m_train_internal\u001b[0;34m(params, dtrain, num_boost_round, evals, obj, feval, xgb_model, callbacks, evals_result, maximize, verbose_eval, early_stopping_rounds)\u001b[0m\n\u001b[1;32m     79\u001b[0m         \u001b[0;32mif\u001b[0m \u001b[0mcallbacks\u001b[0m\u001b[0;34m.\u001b[0m\u001b[0mbefore_iteration\u001b[0m\u001b[0;34m(\u001b[0m\u001b[0mbst\u001b[0m\u001b[0;34m,\u001b[0m \u001b[0mi\u001b[0m\u001b[0;34m,\u001b[0m \u001b[0mdtrain\u001b[0m\u001b[0;34m,\u001b[0m \u001b[0mevals\u001b[0m\u001b[0;34m)\u001b[0m\u001b[0;34m:\u001b[0m\u001b[0;34m\u001b[0m\u001b[0;34m\u001b[0m\u001b[0m\n\u001b[1;32m     80\u001b[0m             \u001b[0;32mbreak\u001b[0m\u001b[0;34m\u001b[0m\u001b[0;34m\u001b[0m\u001b[0m\n\u001b[0;32m---> 81\u001b[0;31m         \u001b[0mbst\u001b[0m\u001b[0;34m.\u001b[0m\u001b[0mupdate\u001b[0m\u001b[0;34m(\u001b[0m\u001b[0mdtrain\u001b[0m\u001b[0;34m,\u001b[0m \u001b[0mi\u001b[0m\u001b[0;34m,\u001b[0m \u001b[0mobj\u001b[0m\u001b[0;34m)\u001b[0m\u001b[0;34m\u001b[0m\u001b[0;34m\u001b[0m\u001b[0m\n\u001b[0m\u001b[1;32m     82\u001b[0m         \u001b[0;32mif\u001b[0m \u001b[0mcallbacks\u001b[0m\u001b[0;34m.\u001b[0m\u001b[0mafter_iteration\u001b[0m\u001b[0;34m(\u001b[0m\u001b[0mbst\u001b[0m\u001b[0;34m,\u001b[0m \u001b[0mi\u001b[0m\u001b[0;34m,\u001b[0m \u001b[0mdtrain\u001b[0m\u001b[0;34m,\u001b[0m \u001b[0mevals\u001b[0m\u001b[0;34m)\u001b[0m\u001b[0;34m:\u001b[0m\u001b[0;34m\u001b[0m\u001b[0;34m\u001b[0m\u001b[0m\n\u001b[1;32m     83\u001b[0m             \u001b[0;32mbreak\u001b[0m\u001b[0;34m\u001b[0m\u001b[0;34m\u001b[0m\u001b[0m\n",
      "\u001b[0;32m~/opt/anaconda3/envs/mini_comp/lib/python3.8/site-packages/xgboost/core.py\u001b[0m in \u001b[0;36mupdate\u001b[0;34m(self, dtrain, iteration, fobj)\u001b[0m\n\u001b[1;32m   1678\u001b[0m \u001b[0;34m\u001b[0m\u001b[0m\n\u001b[1;32m   1679\u001b[0m         \u001b[0;32mif\u001b[0m \u001b[0mfobj\u001b[0m \u001b[0;32mis\u001b[0m \u001b[0;32mNone\u001b[0m\u001b[0;34m:\u001b[0m\u001b[0;34m\u001b[0m\u001b[0;34m\u001b[0m\u001b[0m\n\u001b[0;32m-> 1680\u001b[0;31m             _check_call(_LIB.XGBoosterUpdateOneIter(self.handle,\n\u001b[0m\u001b[1;32m   1681\u001b[0m                                                     \u001b[0mctypes\u001b[0m\u001b[0;34m.\u001b[0m\u001b[0mc_int\u001b[0m\u001b[0;34m(\u001b[0m\u001b[0miteration\u001b[0m\u001b[0;34m)\u001b[0m\u001b[0;34m,\u001b[0m\u001b[0;34m\u001b[0m\u001b[0;34m\u001b[0m\u001b[0m\n\u001b[1;32m   1682\u001b[0m                                                     dtrain.handle))\n",
      "\u001b[0;31mKeyboardInterrupt\u001b[0m: "
     ]
    }
   ],
   "source": [
    "model1 = xgboost_experiment(feat_dict['all_feat'], 'test with different hyperparameters', params, 1000)"
   ]
  },
  {
   "cell_type": "code",
   "execution_count": 34,
   "id": "80cbedd7",
   "metadata": {},
   "outputs": [
    {
     "data": {
      "text/plain": [
       "<AxesSubplot:title={'center':'Feature importance'}, xlabel='F score', ylabel='Features'>"
      ]
     },
     "execution_count": 34,
     "metadata": {},
     "output_type": "execute_result"
    },
    {
     "data": {
      "image/png": "[encoded data removed]",
      "text/plain": [
       "<Figure size 432x288 with 1 Axes>"
      ]
     },
     "metadata": {
      "needs_background": "light"
     },
     "output_type": "display_data"
    }
   ],
   "source": [
    "plot_importance(model1)"
   ]
  },
  {
   "cell_type": "code",
   "execution_count": null,
   "id": "304ebc45",
   "metadata": {},
   "outputs": [],
   "source": []
  }
 ],
 "metadata": {
  "kernelspec": {
   "display_name": "mini_comp",
   "language": "python",
   "name": "mini_comp"
  },
  "language_info": {
   "codemirror_mode": {
    "name": "ipython",
    "version": 3
   },
   "file_extension": ".py",
   "mimetype": "text/x-python",
   "name": "python",
   "nbconvert_exporter": "python",
   "pygments_lexer": "ipython3",
   "version": "3.8.12"
  }
 },
 "nbformat": 4,
 "nbformat_minor": 5
}
