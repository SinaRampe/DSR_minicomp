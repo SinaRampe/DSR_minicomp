{
 "cells": [
  {
   "cell_type": "code",
   "execution_count": 48,
   "id": "243f9d80",
   "metadata": {},
   "outputs": [],
   "source": [
    "import pandas as pd\n",
    "#from pandas_profiling import ProfileReport"
   ]
  },
  {
   "cell_type": "code",
   "execution_count": 49,
   "id": "9b67ca88",
   "metadata": {},
   "outputs": [
    {
     "name": "stderr",
     "output_type": "stream",
     "text": [
      "/Users/sinarampe/opt/anaconda3/envs/mini_comp/lib/python3.8/site-packages/IPython/core/interactiveshell.py:3457: DtypeWarning: Columns (7) have mixed types.Specify dtype option on import or set low_memory=False.\n",
      "  exec(code_obj, self.user_global_ns, self.user_ns)\n"
     ]
    }
   ],
   "source": [
    "train_data = pd.read_csv(\"../minicomp-rossman/data/train.csv\").reset_index(drop=True)\n",
    "store_data = pd.read_csv(\"../minicomp-rossman/data/store.csv\").reset_index(drop=True)"
   ]
  },
  {
   "cell_type": "code",
   "execution_count": 52,
   "id": "a752a130",
   "metadata": {},
   "outputs": [],
   "source": [
    "#profile = ProfileReport(store_data)\n",
    "#profile"
   ]
  },
  {
   "cell_type": "code",
   "execution_count": 53,
   "id": "82fa9606",
   "metadata": {},
   "outputs": [],
   "source": [
    "def add_time_features(df):\n",
    "    df[\"Date\"] = pd.to_datetime(df[\"Date\"])\n",
    "    df['Year'] = df.Date.dt.year - 2013\n",
    "    df['Month'] = df.Date.dt.month\n",
    "    df['Day'] = df.Date.dt.day\n",
    "    df['DayOfWeek'] = df.Date.dt.dayofweek\n",
    "    df['WeekOfYear'] = df.Date.dt.isocalendar().week.astype(int)\n",
    "    df = df.drop(labels = \"Date\", axis=1)\n",
    "    return df"
   ]
  },
  {
   "cell_type": "code",
   "execution_count": 54,
   "id": "9080f8eb",
   "metadata": {},
   "outputs": [],
   "source": [
    "def drop_nans_nulls_closed(df):\n",
    "    df = df[df[\"Open\"]==1]\n",
    "    df = df[df[\"Sales\"]!=0]\n",
    "    df = df.dropna(subset = [\"Store\", \"Open\", \"Promo\", \"StateHoliday\", \"SchoolHoliday\", \"Sales\"])\n",
    "    df[\"StateHoliday\"].replace({0.0: \"0\"}, inplace=True)\n",
    "    return df"
   ]
  },
  {
   "cell_type": "code",
   "execution_count": 55,
   "id": "8251a3e7",
   "metadata": {},
   "outputs": [],
   "source": [
    "def drop_cols(df):\n",
    "    df = df.drop(labels = [\"Customers\"], axis=1)\n",
    "    return df"
   ]
  },
  {
   "cell_type": "code",
   "execution_count": 56,
   "id": "0f06d512",
   "metadata": {},
   "outputs": [],
   "source": [
    "train_data = add_time_features(train_data)\n",
    "train_data = drop_nans_nulls_closed(train_data)\n",
    "train_data = drop_cols(train_data)"
   ]
  },
  {
   "cell_type": "code",
   "execution_count": 57,
   "id": "624fe14a",
   "metadata": {},
   "outputs": [],
   "source": [
    "merged_train = pd.merge(train_data, store_data, how='left', on=\"Store\")"
   ]
  },
  {
   "cell_type": "code",
   "execution_count": 58,
   "id": "7a2cf9a9",
   "metadata": {},
   "outputs": [],
   "source": [
    "def recode(df, var_list=[]):\n",
    "    map_dict = {'0':0, 'a':1, 'b':2, 'c':3, 'd':4}\n",
    "    for v in var_list:\n",
    "        df[v].replace(map_dict, inplace=True)\n",
    "    return df\n",
    "\n",
    "merged_train = recode(merged_train, ['StoreType', 'Assortment', 'StateHoliday'])"
   ]
  },
  {
   "cell_type": "code",
   "execution_count": 60,
   "id": "91327ce5",
   "metadata": {},
   "outputs": [],
   "source": [
    "def month_to_str(df):\n",
    "    map_dict = {1:'Jan', 2:'Feb', 3:'Mar', 4:'Apr', 5:'May', 6:'Jun', \\\n",
    "             7:'Jul', 8:'Aug', 9:'Sept', 10:'Oct', 11:'Nov', 12:'Dec'}\n",
    "    df['month_str'] = df.Month.map(map_dict)\n",
    "    return df\n",
    "\n",
    "merged_train = month_to_str(merged_train)"
   ]
  },
  {
   "cell_type": "code",
   "execution_count": 61,
   "id": "95ca6719",
   "metadata": {},
   "outputs": [],
   "source": [
    "def check_promo(row):\n",
    "    if isinstance(row['PromoInterval'],str) and row['month_str'] in row['PromoInterval']:\n",
    "            return 1\n",
    "    else:\n",
    "            return 0"
   ]
  },
  {
   "cell_type": "code",
   "execution_count": 62,
   "id": "a955e5ac",
   "metadata": {},
   "outputs": [],
   "source": [
    "merged_train['PromoMonth'] =  merged_train.apply(lambda row: check_promo(row),axis=1)    "
   ]
  },
  {
   "cell_type": "code",
   "execution_count": 82,
   "id": "399b0f4d",
   "metadata": {},
   "outputs": [
    {
     "data": {
      "text/plain": [
       "Index(['Store', 'DayOfWeek', 'Sales', 'Open', 'Promo', 'StateHoliday',\n",
       "       'SchoolHoliday', 'Year', 'Month', 'Day', 'WeekOfYear', 'StoreType',\n",
       "       'Assortment', 'CompetitionDistance', 'CompetitionOpenSinceMonth',\n",
       "       'CompetitionOpenSinceYear', 'Promo2', 'Promo2SinceWeek',\n",
       "       'Promo2SinceYear', 'PromoInterval', 'month_str', 'PromoMonth', 'DayS'],\n",
       "      dtype='object')"
      ]
     },
     "execution_count": 82,
     "metadata": {},
     "output_type": "execute_result"
    }
   ],
   "source": [
    "merged_train.columns"
   ]
  },
  {
   "cell_type": "code",
   "execution_count": 81,
   "id": "7704d577",
   "metadata": {},
   "outputs": [],
   "source": [
    "### TARGET ENC \n",
    "merged_train['Store'] = merged_train['Store'].map(merged_train.groupby('Store')['Sales'].mean())\n",
    "merged_train['Month'] = merged_train['Month'].map(merged_train.groupby('Month')['Sales'].mean())\n",
    "merged_train['DayS'] = merged_train['Day'].map(merged_train.groupby('Day')['Sales'].mean())"
   ]
  },
  {
   "cell_type": "code",
   "execution_count": 87,
   "id": "f8f8fa0d",
   "metadata": {},
   "outputs": [],
   "source": [
    "merged_train['DayOfWeekS'] = merged_train['DayOfWeek'].map(merged_train.groupby('DayOfWeek')['Sales'].mean())\n",
    "merged_train['StoreType'] = merged_train['StoreType'].map(merged_train.groupby('StoreType')['Sales'].mean())\n",
    "merged_train['Assortment'] = merged_train['Assortment'].map(merged_train.groupby('Assortment')['Sales'].mean())\n",
    "merged_train['StoreM'] = merged_train['Store'].map(merged_train.groupby('Store')['Month'].mean())"
   ]
  },
  {
   "cell_type": "code",
   "execution_count": 88,
   "id": "35f642a1",
   "metadata": {},
   "outputs": [
    {
     "data": {
      "text/html": [
       "<div>\n",
       "<style scoped>\n",
       "    .dataframe tbody tr th:only-of-type {\n",
       "        vertical-align: middle;\n",
       "    }\n",
       "\n",
       "    .dataframe tbody tr th {\n",
       "        vertical-align: top;\n",
       "    }\n",
       "\n",
       "    .dataframe thead th {\n",
       "        text-align: right;\n",
       "    }\n",
       "</style>\n",
       "<table border=\"1\" class=\"dataframe\">\n",
       "  <thead>\n",
       "    <tr style=\"text-align: right;\">\n",
       "      <th></th>\n",
       "      <th>Store</th>\n",
       "      <th>DayOfWeek</th>\n",
       "      <th>Sales</th>\n",
       "      <th>Open</th>\n",
       "      <th>Promo</th>\n",
       "      <th>StateHoliday</th>\n",
       "      <th>SchoolHoliday</th>\n",
       "      <th>Year</th>\n",
       "      <th>Month</th>\n",
       "      <th>Day</th>\n",
       "      <th>...</th>\n",
       "      <th>CompetitionOpenSinceYear</th>\n",
       "      <th>Promo2</th>\n",
       "      <th>Promo2SinceWeek</th>\n",
       "      <th>Promo2SinceYear</th>\n",
       "      <th>PromoInterval</th>\n",
       "      <th>month_str</th>\n",
       "      <th>PromoMonth</th>\n",
       "      <th>DayS</th>\n",
       "      <th>DayOfWeekS</th>\n",
       "      <th>StoreM</th>\n",
       "    </tr>\n",
       "  </thead>\n",
       "  <tbody>\n",
       "    <tr>\n",
       "      <th>0</th>\n",
       "      <td>5160.810638</td>\n",
       "      <td>1</td>\n",
       "      <td>3139.0</td>\n",
       "      <td>1.0</td>\n",
       "      <td>0.0</td>\n",
       "      <td>1</td>\n",
       "      <td>1.0</td>\n",
       "      <td>0</td>\n",
       "      <td>6399.393606</td>\n",
       "      <td>1</td>\n",
       "      <td>...</td>\n",
       "      <td>NaN</td>\n",
       "      <td>1</td>\n",
       "      <td>14.0</td>\n",
       "      <td>2013.0</td>\n",
       "      <td>Feb,May,Aug,Nov</td>\n",
       "      <td>Jan</td>\n",
       "      <td>0</td>\n",
       "      <td>7234.412655</td>\n",
       "      <td>6896.934074</td>\n",
       "      <td>6842.080243</td>\n",
       "    </tr>\n",
       "    <tr>\n",
       "      <th>1</th>\n",
       "      <td>12959.368313</td>\n",
       "      <td>1</td>\n",
       "      <td>2401.0</td>\n",
       "      <td>1.0</td>\n",
       "      <td>0.0</td>\n",
       "      <td>1</td>\n",
       "      <td>1.0</td>\n",
       "      <td>0</td>\n",
       "      <td>6399.393606</td>\n",
       "      <td>1</td>\n",
       "      <td>...</td>\n",
       "      <td>NaN</td>\n",
       "      <td>1</td>\n",
       "      <td>31.0</td>\n",
       "      <td>2013.0</td>\n",
       "      <td>Jan,Apr,Jul,Oct</td>\n",
       "      <td>Jan</td>\n",
       "      <td>1</td>\n",
       "      <td>7234.412655</td>\n",
       "      <td>6896.934074</td>\n",
       "      <td>6854.443247</td>\n",
       "    </tr>\n",
       "    <tr>\n",
       "      <th>2</th>\n",
       "      <td>5173.130734</td>\n",
       "      <td>1</td>\n",
       "      <td>2646.0</td>\n",
       "      <td>1.0</td>\n",
       "      <td>0.0</td>\n",
       "      <td>1</td>\n",
       "      <td>1.0</td>\n",
       "      <td>0</td>\n",
       "      <td>6399.393606</td>\n",
       "      <td>1</td>\n",
       "      <td>...</td>\n",
       "      <td>NaN</td>\n",
       "      <td>1</td>\n",
       "      <td>5.0</td>\n",
       "      <td>2013.0</td>\n",
       "      <td>Mar,Jun,Sept,Dec</td>\n",
       "      <td>Jan</td>\n",
       "      <td>0</td>\n",
       "      <td>7234.412655</td>\n",
       "      <td>6896.934074</td>\n",
       "      <td>6848.775611</td>\n",
       "    </tr>\n",
       "    <tr>\n",
       "      <th>3</th>\n",
       "      <td>7479.684100</td>\n",
       "      <td>1</td>\n",
       "      <td>3113.0</td>\n",
       "      <td>1.0</td>\n",
       "      <td>0.0</td>\n",
       "      <td>1</td>\n",
       "      <td>1.0</td>\n",
       "      <td>0</td>\n",
       "      <td>6399.393606</td>\n",
       "      <td>1</td>\n",
       "      <td>...</td>\n",
       "      <td>2011.0</td>\n",
       "      <td>0</td>\n",
       "      <td>NaN</td>\n",
       "      <td>NaN</td>\n",
       "      <td>NaN</td>\n",
       "      <td>Jan</td>\n",
       "      <td>0</td>\n",
       "      <td>7234.412655</td>\n",
       "      <td>6896.934074</td>\n",
       "      <td>6848.258186</td>\n",
       "    </tr>\n",
       "    <tr>\n",
       "      <th>4</th>\n",
       "      <td>4425.829741</td>\n",
       "      <td>1</td>\n",
       "      <td>2907.0</td>\n",
       "      <td>1.0</td>\n",
       "      <td>0.0</td>\n",
       "      <td>1</td>\n",
       "      <td>1.0</td>\n",
       "      <td>0</td>\n",
       "      <td>6399.393606</td>\n",
       "      <td>1</td>\n",
       "      <td>...</td>\n",
       "      <td>NaN</td>\n",
       "      <td>0</td>\n",
       "      <td>NaN</td>\n",
       "      <td>NaN</td>\n",
       "      <td>NaN</td>\n",
       "      <td>Jan</td>\n",
       "      <td>0</td>\n",
       "      <td>7234.412655</td>\n",
       "      <td>6896.934074</td>\n",
       "      <td>6847.086991</td>\n",
       "    </tr>\n",
       "  </tbody>\n",
       "</table>\n",
       "<p>5 rows × 25 columns</p>\n",
       "</div>"
      ],
      "text/plain": [
       "          Store  DayOfWeek   Sales  Open  Promo  StateHoliday  SchoolHoliday  \\\n",
       "0   5160.810638          1  3139.0   1.0    0.0             1            1.0   \n",
       "1  12959.368313          1  2401.0   1.0    0.0             1            1.0   \n",
       "2   5173.130734          1  2646.0   1.0    0.0             1            1.0   \n",
       "3   7479.684100          1  3113.0   1.0    0.0             1            1.0   \n",
       "4   4425.829741          1  2907.0   1.0    0.0             1            1.0   \n",
       "\n",
       "   Year        Month  Day  ...  CompetitionOpenSinceYear  Promo2  \\\n",
       "0     0  6399.393606    1  ...                       NaN       1   \n",
       "1     0  6399.393606    1  ...                       NaN       1   \n",
       "2     0  6399.393606    1  ...                       NaN       1   \n",
       "3     0  6399.393606    1  ...                    2011.0       0   \n",
       "4     0  6399.393606    1  ...                       NaN       0   \n",
       "\n",
       "   Promo2SinceWeek  Promo2SinceYear     PromoInterval  month_str  PromoMonth  \\\n",
       "0             14.0           2013.0   Feb,May,Aug,Nov        Jan           0   \n",
       "1             31.0           2013.0   Jan,Apr,Jul,Oct        Jan           1   \n",
       "2              5.0           2013.0  Mar,Jun,Sept,Dec        Jan           0   \n",
       "3              NaN              NaN               NaN        Jan           0   \n",
       "4              NaN              NaN               NaN        Jan           0   \n",
       "\n",
       "          DayS   DayOfWeekS       StoreM  \n",
       "0  7234.412655  6896.934074  6842.080243  \n",
       "1  7234.412655  6896.934074  6854.443247  \n",
       "2  7234.412655  6896.934074  6848.775611  \n",
       "3  7234.412655  6896.934074  6848.258186  \n",
       "4  7234.412655  6896.934074  6847.086991  \n",
       "\n",
       "[5 rows x 25 columns]"
      ]
     },
     "execution_count": 88,
     "metadata": {},
     "output_type": "execute_result"
    }
   ],
   "source": [
    "merged_train.head()"
   ]
  },
  {
   "cell_type": "code",
   "execution_count": 91,
   "id": "f2b2cea0",
   "metadata": {},
   "outputs": [
    {
     "data": {
      "text/plain": [
       "Index(['Store', 'DayOfWeek', 'Sales', 'Open', 'Promo', 'StateHoliday',\n",
       "       'SchoolHoliday', 'Year', 'Month', 'Day', 'WeekOfYear', 'StoreType',\n",
       "       'Assortment', 'CompetitionDistance', 'CompetitionOpenSinceMonth',\n",
       "       'CompetitionOpenSinceYear', 'Promo2', 'Promo2SinceWeek',\n",
       "       'Promo2SinceYear', 'PromoInterval', 'month_str', 'PromoMonth', 'DayS',\n",
       "       'DayOfWeekS', 'StoreM'],\n",
       "      dtype='object')"
      ]
     },
     "execution_count": 91,
     "metadata": {},
     "output_type": "execute_result"
    }
   ],
   "source": [
    "merged_train.columns"
   ]
  },
  {
   "cell_type": "code",
   "execution_count": 89,
   "id": "c2741fea",
   "metadata": {},
   "outputs": [],
   "source": [
    "train = merged_train.iloc[:int(0.9*train_data.shape[0]), :]\n",
    "eva = merged_train.iloc[int(0.9*train_data.shape[0]):int(0.95*train_data.shape[0]), :]\n",
    "test = merged_train.iloc[int(0.95*train_data.shape[0]):, :]"
   ]
  },
  {
   "cell_type": "code",
   "execution_count": 90,
   "id": "a94f49e3",
   "metadata": {},
   "outputs": [],
   "source": [
    "import xgboost as xgb\n",
    "from xgboost import plot_importance"
   ]
  },
  {
   "cell_type": "code",
   "execution_count": 94,
   "id": "56a6e51a",
   "metadata": {},
   "outputs": [],
   "source": [
    "target = 'Sales'\n",
    "\n",
    "my_features = [\"Store\",'Year', 'Month', 'Day', 'WeekOfYear', 'DayOfWeek','StateHoliday', 'SchoolHoliday', \n",
    "               'CompetitionDistance', 'Promo2', 'StoreType', 'Assortment', 'Open', 'Promo', \"PromoMonth\",\n",
    "              'DayS', 'DayOfWeekS', 'StoreM']"
   ]
  },
  {
   "cell_type": "code",
   "execution_count": 95,
   "id": "10c83d92",
   "metadata": {},
   "outputs": [
    {
     "data": {
      "text/html": [
       "<div>\n",
       "<style scoped>\n",
       "    .dataframe tbody tr th:only-of-type {\n",
       "        vertical-align: middle;\n",
       "    }\n",
       "\n",
       "    .dataframe tbody tr th {\n",
       "        vertical-align: top;\n",
       "    }\n",
       "\n",
       "    .dataframe thead th {\n",
       "        text-align: right;\n",
       "    }\n",
       "</style>\n",
       "<table border=\"1\" class=\"dataframe\">\n",
       "  <thead>\n",
       "    <tr style=\"text-align: right;\">\n",
       "      <th></th>\n",
       "      <th>Store</th>\n",
       "      <th>Year</th>\n",
       "      <th>Month</th>\n",
       "      <th>Day</th>\n",
       "      <th>WeekOfYear</th>\n",
       "      <th>DayOfWeek</th>\n",
       "      <th>StateHoliday</th>\n",
       "      <th>SchoolHoliday</th>\n",
       "      <th>CompetitionDistance</th>\n",
       "      <th>Promo2</th>\n",
       "      <th>StoreType</th>\n",
       "      <th>Assortment</th>\n",
       "      <th>Open</th>\n",
       "      <th>Promo</th>\n",
       "      <th>PromoMonth</th>\n",
       "      <th>DayS</th>\n",
       "      <th>DayOfWeekS</th>\n",
       "      <th>StoreM</th>\n",
       "    </tr>\n",
       "  </thead>\n",
       "  <tbody>\n",
       "    <tr>\n",
       "      <th>0</th>\n",
       "      <td>5160.810638</td>\n",
       "      <td>0</td>\n",
       "      <td>6399.393606</td>\n",
       "      <td>1</td>\n",
       "      <td>1</td>\n",
       "      <td>1</td>\n",
       "      <td>1</td>\n",
       "      <td>1.0</td>\n",
       "      <td>900.0</td>\n",
       "      <td>1</td>\n",
       "      <td>9902.088827</td>\n",
       "      <td>8141.902433</td>\n",
       "      <td>1.0</td>\n",
       "      <td>0.0</td>\n",
       "      <td>0</td>\n",
       "      <td>7234.412655</td>\n",
       "      <td>6896.934074</td>\n",
       "      <td>6842.080243</td>\n",
       "    </tr>\n",
       "    <tr>\n",
       "      <th>1</th>\n",
       "      <td>12959.368313</td>\n",
       "      <td>0</td>\n",
       "      <td>6399.393606</td>\n",
       "      <td>1</td>\n",
       "      <td>1</td>\n",
       "      <td>1</td>\n",
       "      <td>1</td>\n",
       "      <td>1.0</td>\n",
       "      <td>90.0</td>\n",
       "      <td>1</td>\n",
       "      <td>9902.088827</td>\n",
       "      <td>6567.665908</td>\n",
       "      <td>1.0</td>\n",
       "      <td>0.0</td>\n",
       "      <td>1</td>\n",
       "      <td>7234.412655</td>\n",
       "      <td>6896.934074</td>\n",
       "      <td>6854.443247</td>\n",
       "    </tr>\n",
       "    <tr>\n",
       "      <th>2</th>\n",
       "      <td>5173.130734</td>\n",
       "      <td>0</td>\n",
       "      <td>6399.393606</td>\n",
       "      <td>1</td>\n",
       "      <td>1</td>\n",
       "      <td>1</td>\n",
       "      <td>1</td>\n",
       "      <td>1.0</td>\n",
       "      <td>590.0</td>\n",
       "      <td>1</td>\n",
       "      <td>9902.088827</td>\n",
       "      <td>8141.902433</td>\n",
       "      <td>1.0</td>\n",
       "      <td>0.0</td>\n",
       "      <td>0</td>\n",
       "      <td>7234.412655</td>\n",
       "      <td>6896.934074</td>\n",
       "      <td>6848.775611</td>\n",
       "    </tr>\n",
       "    <tr>\n",
       "      <th>3</th>\n",
       "      <td>7479.684100</td>\n",
       "      <td>0</td>\n",
       "      <td>6399.393606</td>\n",
       "      <td>1</td>\n",
       "      <td>1</td>\n",
       "      <td>1</td>\n",
       "      <td>1</td>\n",
       "      <td>1.0</td>\n",
       "      <td>1260.0</td>\n",
       "      <td>0</td>\n",
       "      <td>9902.088827</td>\n",
       "      <td>6567.665908</td>\n",
       "      <td>1.0</td>\n",
       "      <td>0.0</td>\n",
       "      <td>0</td>\n",
       "      <td>7234.412655</td>\n",
       "      <td>6896.934074</td>\n",
       "      <td>6848.258186</td>\n",
       "    </tr>\n",
       "    <tr>\n",
       "      <th>4</th>\n",
       "      <td>4425.829741</td>\n",
       "      <td>0</td>\n",
       "      <td>6399.393606</td>\n",
       "      <td>1</td>\n",
       "      <td>1</td>\n",
       "      <td>1</td>\n",
       "      <td>1</td>\n",
       "      <td>1.0</td>\n",
       "      <td>18160.0</td>\n",
       "      <td>0</td>\n",
       "      <td>6841.678340</td>\n",
       "      <td>7118.831048</td>\n",
       "      <td>1.0</td>\n",
       "      <td>0.0</td>\n",
       "      <td>0</td>\n",
       "      <td>7234.412655</td>\n",
       "      <td>6896.934074</td>\n",
       "      <td>6847.086991</td>\n",
       "    </tr>\n",
       "  </tbody>\n",
       "</table>\n",
       "</div>"
      ],
      "text/plain": [
       "          Store  Year        Month  Day  WeekOfYear  DayOfWeek  StateHoliday  \\\n",
       "0   5160.810638     0  6399.393606    1           1          1             1   \n",
       "1  12959.368313     0  6399.393606    1           1          1             1   \n",
       "2   5173.130734     0  6399.393606    1           1          1             1   \n",
       "3   7479.684100     0  6399.393606    1           1          1             1   \n",
       "4   4425.829741     0  6399.393606    1           1          1             1   \n",
       "\n",
       "   SchoolHoliday  CompetitionDistance  Promo2    StoreType   Assortment  Open  \\\n",
       "0            1.0                900.0       1  9902.088827  8141.902433   1.0   \n",
       "1            1.0                 90.0       1  9902.088827  6567.665908   1.0   \n",
       "2            1.0                590.0       1  9902.088827  8141.902433   1.0   \n",
       "3            1.0               1260.0       0  9902.088827  6567.665908   1.0   \n",
       "4            1.0              18160.0       0  6841.678340  7118.831048   1.0   \n",
       "\n",
       "   Promo  PromoMonth         DayS   DayOfWeekS       StoreM  \n",
       "0    0.0           0  7234.412655  6896.934074  6842.080243  \n",
       "1    0.0           1  7234.412655  6896.934074  6854.443247  \n",
       "2    0.0           0  7234.412655  6896.934074  6848.775611  \n",
       "3    0.0           0  7234.412655  6896.934074  6848.258186  \n",
       "4    0.0           0  7234.412655  6896.934074  6847.086991  "
      ]
     },
     "execution_count": 95,
     "metadata": {},
     "output_type": "execute_result"
    }
   ],
   "source": [
    "merged_train[my_features].head()"
   ]
  },
  {
   "cell_type": "code",
   "execution_count": 96,
   "id": "3d5b0ae0",
   "metadata": {},
   "outputs": [],
   "source": [
    "params = {\"objective\": \"reg:squarederror\", \n",
    "          \"booster\" : \"gbtree\", \n",
    "          \"seed\": 10 }"
   ]
  },
  {
   "cell_type": "code",
   "execution_count": 97,
   "id": "0d998ed9",
   "metadata": {},
   "outputs": [],
   "source": [
    "from sklearn.metrics import mean_squared_error\n",
    "from math import sqrt\n",
    "\n",
    "def compute_rmspe(actual, prediction):\n",
    "    \"\"\"\n",
    "    Computs RMSPE (root mean squared percentage error) between predictions from a model\n",
    "    and the actual values of the target variable.\n",
    "    \"\"\"\n",
    "    \n",
    "    rmspe = sqrt(mean_squared_error(actual, prediction)) / prediction.mean()\n",
    "    \n",
    "    # rounding to 2 decimal places\n",
    "    print('RMSPE is ', round(rmspe,2))\n",
    "    \n",
    "    return rmspe"
   ]
  },
  {
   "cell_type": "code",
   "execution_count": 98,
   "id": "a3e0125e",
   "metadata": {},
   "outputs": [],
   "source": [
    "def xgboost_experiment(vars_list, experiment_name, params, num_boost_round):\n",
    "    dtrain = xgb.DMatrix(train[vars_list], label=train['Sales'], enable_categorical=True)\n",
    "    deva = xgb.DMatrix(eva[vars_list], label=eva['Sales'])\n",
    "    dtest = xgb.DMatrix(test[vars_list], label=test['Sales'], enable_categorical=True)\n",
    "    \n",
    "    #train\n",
    "    xgb_model = xgb.train(params, dtrain, num_boost_round=num_boost_round, \n",
    "                      early_stopping_rounds=100, evals=[(deva, \"Eval\")], verbose_eval=False)\n",
    "\n",
    "    # make prediction\n",
    "    print('+++++ Results for experiment: ', experiment_name)\n",
    "    pred = xgb_model.predict(dtest)\n",
    "    print(\"Testerror\")\n",
    "    print(compute_rmspe(test[target], pred) / test[target].mean())\n",
    "    pred = xgb_model.predict(dtrain)\n",
    "    print(\"Trainerror\")\n",
    "    compute_rmspe(train[target], pred) \n",
    "    return xgb_model"
   ]
  },
  {
   "cell_type": "code",
   "execution_count": 99,
   "id": "6aa75a18",
   "metadata": {},
   "outputs": [],
   "source": [
    "#num_boost_round_list = [100, 500, 1000]\n",
    "\n",
    "#for n in num_boost_round_list:\n",
    "#    print('### Experiment with ', str(n), ' boosting rounds')\n",
    "#   xgboost_experiment(my_features, \"my_features\", params, n)"
   ]
  },
  {
   "cell_type": "code",
   "execution_count": 100,
   "id": "ab0f0fc4",
   "metadata": {},
   "outputs": [
    {
     "name": "stdout",
     "output_type": "stream",
     "text": [
      "+++++ Results for experiment:  final\n",
      "Testerror\n",
      "RMSPE is  0.15\n",
      "2.1595502176017674e-05\n",
      "Trainerror\n",
      "RMSPE is  0.09\n"
     ]
    }
   ],
   "source": [
    "my_model = xgboost_experiment(my_features, \"final\", params, 1000)"
   ]
  },
  {
   "cell_type": "markdown",
   "id": "85f83b30",
   "metadata": {},
   "source": [
    "## Make predictions on Holdout_data and create a submission.csv file"
   ]
  },
  {
   "cell_type": "code",
   "execution_count": 106,
   "id": "304ebc45",
   "metadata": {},
   "outputs": [],
   "source": [
    "holdout_data = pd.read_csv(\"../minicomp-rossman/data/holdout_b29.csv\")"
   ]
  },
  {
   "cell_type": "code",
   "execution_count": 107,
   "id": "92b443cb",
   "metadata": {},
   "outputs": [],
   "source": [
    "holdout_data = holdout_data.rename(columns={\"Unnamed: 0\": \"Id\"})\n",
    "holdout_data[\"Id\"] = holdout_data[\"Id\"] + 1"
   ]
  },
  {
   "cell_type": "code",
   "execution_count": 108,
   "id": "5e260b70",
   "metadata": {},
   "outputs": [],
   "source": [
    "def drop_nn(df):\n",
    "    df = df[df[\"Open\"]==1]\n",
    "    df = df.dropna(subset = [\"Store\", \"Open\", \"Promo\", \"StateHoliday\", \"SchoolHoliday\"])\n",
    "    df[\"StateHoliday\"].replace({0.0: \"0\"}, inplace=True)\n",
    "    return df"
   ]
  },
  {
   "cell_type": "code",
   "execution_count": 109,
   "id": "cfe30a28",
   "metadata": {},
   "outputs": [],
   "source": [
    "holdout_data = add_time_features(holdout_data)\n",
    "holdout_data = drop_nn(holdout_data)\n",
    "holdout_data = drop_cols(holdout_data)"
   ]
  },
  {
   "cell_type": "code",
   "execution_count": 113,
   "id": "c0cec7ae",
   "metadata": {},
   "outputs": [],
   "source": [
    "merged_holdout = pd.merge(holdout_data, store_data, how='left', on=\"Store\")\n",
    "merged_holdout = recode(merged_holdout, ['StoreType', 'Assortment', 'StateHoliday'])\n",
    "merged_holdout = month_to_str(merged_holdout)\n",
    "merged_holdout['PromoMonth'] =  merged_holdout.apply(lambda row: check_promo(row),axis=1)   "
   ]
  },
  {
   "cell_type": "code",
   "execution_count": null,
   "id": "4cdaf4b4",
   "metadata": {},
   "outputs": [],
   "source": []
  },
  {
   "cell_type": "code",
   "execution_count": 114,
   "id": "bde80413",
   "metadata": {},
   "outputs": [
    {
     "ename": "KeyError",
     "evalue": "'Column not found: Sales'",
     "output_type": "error",
     "traceback": [
      "\u001b[0;31m---------------------------------------------------------------------------\u001b[0m",
      "\u001b[0;31mKeyError\u001b[0m                                  Traceback (most recent call last)",
      "\u001b[0;32m/var/folders/0l/vrnj4cj121dgbf75nczzbz100000gn/T/ipykernel_12262/107692747.py\u001b[0m in \u001b[0;36m<module>\u001b[0;34m\u001b[0m\n\u001b[0;32m----> 1\u001b[0;31m \u001b[0mmerged_holdout\u001b[0m\u001b[0;34m[\u001b[0m\u001b[0;34m'Store'\u001b[0m\u001b[0;34m]\u001b[0m \u001b[0;34m=\u001b[0m \u001b[0mmerged_holdout\u001b[0m\u001b[0;34m[\u001b[0m\u001b[0;34m'Store'\u001b[0m\u001b[0;34m]\u001b[0m\u001b[0;34m.\u001b[0m\u001b[0mmap\u001b[0m\u001b[0;34m(\u001b[0m\u001b[0mmerged_holdout\u001b[0m\u001b[0;34m.\u001b[0m\u001b[0mgroupby\u001b[0m\u001b[0;34m(\u001b[0m\u001b[0;34m'Store'\u001b[0m\u001b[0;34m)\u001b[0m\u001b[0;34m[\u001b[0m\u001b[0;34m'Sales'\u001b[0m\u001b[0;34m]\u001b[0m\u001b[0;34m.\u001b[0m\u001b[0mmean\u001b[0m\u001b[0;34m(\u001b[0m\u001b[0;34m)\u001b[0m\u001b[0;34m)\u001b[0m\u001b[0;34m\u001b[0m\u001b[0;34m\u001b[0m\u001b[0m\n\u001b[0m\u001b[1;32m      2\u001b[0m \u001b[0mmerged_holdout\u001b[0m\u001b[0;34m[\u001b[0m\u001b[0;34m'Month'\u001b[0m\u001b[0;34m]\u001b[0m \u001b[0;34m=\u001b[0m \u001b[0mmerged_holdout\u001b[0m\u001b[0;34m[\u001b[0m\u001b[0;34m'Month'\u001b[0m\u001b[0;34m]\u001b[0m\u001b[0;34m.\u001b[0m\u001b[0mmap\u001b[0m\u001b[0;34m(\u001b[0m\u001b[0mmerged_holdout\u001b[0m\u001b[0;34m.\u001b[0m\u001b[0mgroupby\u001b[0m\u001b[0;34m(\u001b[0m\u001b[0;34m'Month'\u001b[0m\u001b[0;34m)\u001b[0m\u001b[0;34m[\u001b[0m\u001b[0;34m'Sales'\u001b[0m\u001b[0;34m]\u001b[0m\u001b[0;34m.\u001b[0m\u001b[0mmean\u001b[0m\u001b[0;34m(\u001b[0m\u001b[0;34m)\u001b[0m\u001b[0;34m)\u001b[0m\u001b[0;34m\u001b[0m\u001b[0;34m\u001b[0m\u001b[0m\n\u001b[1;32m      3\u001b[0m \u001b[0mmerged_holdout\u001b[0m\u001b[0;34m[\u001b[0m\u001b[0;34m'DayS'\u001b[0m\u001b[0;34m]\u001b[0m \u001b[0;34m=\u001b[0m \u001b[0mmerged_holdout\u001b[0m\u001b[0;34m[\u001b[0m\u001b[0;34m'Day'\u001b[0m\u001b[0;34m]\u001b[0m\u001b[0;34m.\u001b[0m\u001b[0mmap\u001b[0m\u001b[0;34m(\u001b[0m\u001b[0mmerged_holdout\u001b[0m\u001b[0;34m.\u001b[0m\u001b[0mgroupby\u001b[0m\u001b[0;34m(\u001b[0m\u001b[0;34m'Day'\u001b[0m\u001b[0;34m)\u001b[0m\u001b[0;34m[\u001b[0m\u001b[0;34m'Sales'\u001b[0m\u001b[0;34m]\u001b[0m\u001b[0;34m.\u001b[0m\u001b[0mmean\u001b[0m\u001b[0;34m(\u001b[0m\u001b[0;34m)\u001b[0m\u001b[0;34m)\u001b[0m\u001b[0;34m\u001b[0m\u001b[0;34m\u001b[0m\u001b[0m\n\u001b[1;32m      4\u001b[0m \u001b[0mmerged_holdout\u001b[0m\u001b[0;34m[\u001b[0m\u001b[0;34m'DayOfWeekS'\u001b[0m\u001b[0;34m]\u001b[0m \u001b[0;34m=\u001b[0m \u001b[0mmerged_holdout\u001b[0m\u001b[0;34m[\u001b[0m\u001b[0;34m'DayOfWeek'\u001b[0m\u001b[0;34m]\u001b[0m\u001b[0;34m.\u001b[0m\u001b[0mmap\u001b[0m\u001b[0;34m(\u001b[0m\u001b[0mmerged_holdout\u001b[0m\u001b[0;34m.\u001b[0m\u001b[0mgroupby\u001b[0m\u001b[0;34m(\u001b[0m\u001b[0;34m'DayOfWeek'\u001b[0m\u001b[0;34m)\u001b[0m\u001b[0;34m[\u001b[0m\u001b[0;34m'Sales'\u001b[0m\u001b[0;34m]\u001b[0m\u001b[0;34m.\u001b[0m\u001b[0mmean\u001b[0m\u001b[0;34m(\u001b[0m\u001b[0;34m)\u001b[0m\u001b[0;34m)\u001b[0m\u001b[0;34m\u001b[0m\u001b[0;34m\u001b[0m\u001b[0m\n\u001b[1;32m      5\u001b[0m \u001b[0mmerged_holdout\u001b[0m\u001b[0;34m[\u001b[0m\u001b[0;34m'StoreType'\u001b[0m\u001b[0;34m]\u001b[0m \u001b[0;34m=\u001b[0m \u001b[0mmerged_holdout\u001b[0m\u001b[0;34m[\u001b[0m\u001b[0;34m'StoreType'\u001b[0m\u001b[0;34m]\u001b[0m\u001b[0;34m.\u001b[0m\u001b[0mmap\u001b[0m\u001b[0;34m(\u001b[0m\u001b[0mmerged_holdout\u001b[0m\u001b[0;34m.\u001b[0m\u001b[0mgroupby\u001b[0m\u001b[0;34m(\u001b[0m\u001b[0;34m'StoreType'\u001b[0m\u001b[0;34m)\u001b[0m\u001b[0;34m[\u001b[0m\u001b[0;34m'Sales'\u001b[0m\u001b[0;34m]\u001b[0m\u001b[0;34m.\u001b[0m\u001b[0mmean\u001b[0m\u001b[0;34m(\u001b[0m\u001b[0;34m)\u001b[0m\u001b[0;34m)\u001b[0m\u001b[0;34m\u001b[0m\u001b[0;34m\u001b[0m\u001b[0m\n",
      "\u001b[0;32m~/opt/anaconda3/envs/mini_comp/lib/python3.8/site-packages/pandas/core/groupby/generic.py\u001b[0m in \u001b[0;36m__getitem__\u001b[0;34m(self, key)\u001b[0m\n\u001b[1;32m   1536\u001b[0m                 \u001b[0mstacklevel\u001b[0m\u001b[0;34m=\u001b[0m\u001b[0;36m2\u001b[0m\u001b[0;34m,\u001b[0m\u001b[0;34m\u001b[0m\u001b[0;34m\u001b[0m\u001b[0m\n\u001b[1;32m   1537\u001b[0m             )\n\u001b[0;32m-> 1538\u001b[0;31m         \u001b[0;32mreturn\u001b[0m \u001b[0msuper\u001b[0m\u001b[0;34m(\u001b[0m\u001b[0;34m)\u001b[0m\u001b[0;34m.\u001b[0m\u001b[0m__getitem__\u001b[0m\u001b[0;34m(\u001b[0m\u001b[0mkey\u001b[0m\u001b[0;34m)\u001b[0m\u001b[0;34m\u001b[0m\u001b[0;34m\u001b[0m\u001b[0m\n\u001b[0m\u001b[1;32m   1539\u001b[0m \u001b[0;34m\u001b[0m\u001b[0m\n\u001b[1;32m   1540\u001b[0m     \u001b[0;32mdef\u001b[0m \u001b[0m_gotitem\u001b[0m\u001b[0;34m(\u001b[0m\u001b[0mself\u001b[0m\u001b[0;34m,\u001b[0m \u001b[0mkey\u001b[0m\u001b[0;34m,\u001b[0m \u001b[0mndim\u001b[0m\u001b[0;34m:\u001b[0m \u001b[0mint\u001b[0m\u001b[0;34m,\u001b[0m \u001b[0msubset\u001b[0m\u001b[0;34m=\u001b[0m\u001b[0;32mNone\u001b[0m\u001b[0;34m)\u001b[0m\u001b[0;34m:\u001b[0m\u001b[0;34m\u001b[0m\u001b[0;34m\u001b[0m\u001b[0m\n",
      "\u001b[0;32m~/opt/anaconda3/envs/mini_comp/lib/python3.8/site-packages/pandas/core/base.py\u001b[0m in \u001b[0;36m__getitem__\u001b[0;34m(self, key)\u001b[0m\n\u001b[1;32m    230\u001b[0m         \u001b[0;32melse\u001b[0m\u001b[0;34m:\u001b[0m\u001b[0;34m\u001b[0m\u001b[0;34m\u001b[0m\u001b[0m\n\u001b[1;32m    231\u001b[0m             \u001b[0;32mif\u001b[0m \u001b[0mkey\u001b[0m \u001b[0;32mnot\u001b[0m \u001b[0;32min\u001b[0m \u001b[0mself\u001b[0m\u001b[0;34m.\u001b[0m\u001b[0mobj\u001b[0m\u001b[0;34m:\u001b[0m\u001b[0;34m\u001b[0m\u001b[0;34m\u001b[0m\u001b[0m\n\u001b[0;32m--> 232\u001b[0;31m                 \u001b[0;32mraise\u001b[0m \u001b[0mKeyError\u001b[0m\u001b[0;34m(\u001b[0m\u001b[0;34mf\"Column not found: {key}\"\u001b[0m\u001b[0;34m)\u001b[0m\u001b[0;34m\u001b[0m\u001b[0;34m\u001b[0m\u001b[0m\n\u001b[0m\u001b[1;32m    233\u001b[0m             \u001b[0msubset\u001b[0m \u001b[0;34m=\u001b[0m \u001b[0mself\u001b[0m\u001b[0;34m.\u001b[0m\u001b[0mobj\u001b[0m\u001b[0;34m[\u001b[0m\u001b[0mkey\u001b[0m\u001b[0;34m]\u001b[0m\u001b[0;34m\u001b[0m\u001b[0;34m\u001b[0m\u001b[0m\n\u001b[1;32m    234\u001b[0m             \u001b[0mndim\u001b[0m \u001b[0;34m=\u001b[0m \u001b[0msubset\u001b[0m\u001b[0;34m.\u001b[0m\u001b[0mndim\u001b[0m\u001b[0;34m\u001b[0m\u001b[0;34m\u001b[0m\u001b[0m\n",
      "\u001b[0;31mKeyError\u001b[0m: 'Column not found: Sales'"
     ]
    }
   ],
   "source": [
    "merged_holdout['Store'] = merged_holdout['Store'].map(merged_holdout.groupby('Store')['Sales'].mean())\n",
    "merged_holdout['Month'] = merged_holdout['Month'].map(merged_holdout.groupby('Month')['Sales'].mean())\n",
    "merged_holdout['DayS'] = merged_holdout['Day'].map(merged_holdout.groupby('Day')['Sales'].mean())\n",
    "merged_holdout['DayOfWeekS'] = merged_holdout['DayOfWeek'].map(merged_holdout.groupby('DayOfWeek')['Sales'].mean())\n",
    "merged_holdout['StoreType'] = merged_holdout['StoreType'].map(merged_holdout.groupby('StoreType')['Sales'].mean())\n",
    "merged_holdout['Assortment'] = merged_holdout['Assortment'].map(merged_holdout.groupby('Assortment')['Sales'].mean())\n",
    "merged_holdout['StoreM'] = merged_holdout['Store'].map(merged_holdout.groupby('Store')['Month'].mean())"
   ]
  },
  {
   "cell_type": "code",
   "execution_count": null,
   "id": "f8fa0877",
   "metadata": {},
   "outputs": [],
   "source": []
  }
 ],
 "metadata": {
  "kernelspec": {
   "display_name": "mini_comp",
   "language": "python",
   "name": "mini_comp"
  },
  "language_info": {
   "codemirror_mode": {
    "name": "ipython",
    "version": 3
   },
   "file_extension": ".py",
   "mimetype": "text/x-python",
   "name": "python",
   "nbconvert_exporter": "python",
   "pygments_lexer": "ipython3",
   "version": "3.8.12"
  }
 },
 "nbformat": 4,
 "nbformat_minor": 5
}
