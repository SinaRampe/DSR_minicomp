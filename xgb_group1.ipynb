{
 "cells": [
  {
   "cell_type": "code",
   "execution_count": 1,
   "id": "243f9d80",
   "metadata": {},
   "outputs": [],
   "source": [
    "import numpy as np\n",
    "import pandas as pd\n",
    "import xgboost as xgb\n",
    "from category_encoders import TargetEncoder\n",
    "from xgboost import plot_importance"
   ]
  },
  {
   "cell_type": "markdown",
   "id": "011cc272-7891-4571-85a7-ee86615be970",
   "metadata": {},
   "source": [
    "## Data Preparation"
   ]
  },
  {
   "cell_type": "markdown",
   "id": "83a95089",
   "metadata": {
    "jp-MarkdownHeadingCollapsed": true,
    "tags": []
   },
   "source": [
    "### 1. Load Data"
   ]
  },
  {
   "cell_type": "code",
   "execution_count": 2,
   "id": "9b67ca88",
   "metadata": {
    "tags": []
   },
   "outputs": [
    {
     "name": "stderr",
     "output_type": "stream",
     "text": [
      "/Users/sinarampe/opt/anaconda3/envs/mini_comp/lib/python3.8/site-packages/IPython/core/interactiveshell.py:3457: DtypeWarning: Columns (7) have mixed types.Specify dtype option on import or set low_memory=False.\n",
      "  exec(code_obj, self.user_global_ns, self.user_ns)\n"
     ]
    }
   ],
   "source": [
    "train_data = pd.read_csv(\"./data/train.csv\").reset_index(drop=True)\n",
    "store_data = pd.read_csv(\"./data/store.csv\").reset_index(drop=True)"
   ]
  },
  {
   "cell_type": "markdown",
   "id": "9ca064ac",
   "metadata": {
    "jp-MarkdownHeadingCollapsed": true,
    "tags": []
   },
   "source": [
    "### 2. Data Exploration"
   ]
  },
  {
   "cell_type": "raw",
   "id": "baf58f10-6480-4ac0-8a83-c02865ab16d5",
   "metadata": {},
   "source": [
    "Data Exploration performed with Pandas Profiling, more details in the README.md"
   ]
  },
  {
   "cell_type": "markdown",
   "id": "38028702",
   "metadata": {
    "jp-MarkdownHeadingCollapsed": true,
    "tags": []
   },
   "source": [
    "### 3. Data Cleaning and Feature Engineering "
   ]
  },
  {
   "cell_type": "code",
   "execution_count": 4,
   "id": "82fa9606",
   "metadata": {},
   "outputs": [],
   "source": [
    "def add_time_features(df):\n",
    "    \"\"\"\n",
    "    Converts \"Date\" from type string to datetime format.\n",
    "    Creates a year, month, day, dayofweek and weekofyear column in the dataframe.\n",
    "    \"\"\"\n",
    "    df[\"Date\"] = pd.to_datetime(df[\"Date\"])\n",
    "    df[\"Year\"] = df.Date.dt.year - 2013\n",
    "    df[\"Month\"] = df.Date.dt.month\n",
    "    df[\"Day\"] = df.Date.dt.day\n",
    "    df[\"DayOfWeek\"] = df.Date.dt.dayofweek\n",
    "    df[\"WeekOfYear\"] = df.Date.dt.isocalendar().week.astype(int)\n",
    "    df = df.drop(labels=\"Date\", axis=1)  # Drop the date column.\n",
    "    return df"
   ]
  },
  {
   "cell_type": "code",
   "execution_count": 5,
   "id": "9080f8eb",
   "metadata": {},
   "outputs": [],
   "source": [
    "def drop_nans_nulls_closed(df):\n",
    "    \"\"\"\n",
    "    Cleans dataframe by removing irrelevant information.\n",
    "    \"\"\"\n",
    "    df = df[df[\"Open\"] == 1]  # Drop rows where store is closed.\n",
    "    df = df[df[\"Sales\"] != 0]  # Keep rows where sales happened.\n",
    "    df = df.dropna(\n",
    "        subset=[\"Store\", \"Open\", \"Promo\", \"StateHoliday\", \"SchoolHoliday\", \"Sales\",]\n",
    "    )  # Drop rows with missing values.\n",
    "    try:\n",
    "        df = df.drop(labels=[\"Customers\"], axis=1)  # Drop customers.\n",
    "    except:\n",
    "        pass\n",
    "    df[\"StateHoliday\"].replace(\n",
    "        {0.0: \"0\"}, inplace=True\n",
    "    )  # Prepare feature for encoding.\n",
    "    return df"
   ]
  },
  {
   "cell_type": "code",
   "execution_count": 6,
   "id": "7a2cf9a9",
   "metadata": {},
   "outputs": [],
   "source": [
    "def recode(df, var_list=[]):\n",
    "    \"\"\"\n",
    "    Encodes categorical columns.\n",
    "    \"\"\"\n",
    "    map_dict = {\"0\": 0, \"a\": 1, \"b\": 2, \"c\": 3, \"d\": 4}\n",
    "    for v in var_list:\n",
    "        df[v].replace(map_dict, inplace=True)\n",
    "    return df"
   ]
  },
  {
   "cell_type": "code",
   "execution_count": 7,
   "id": "cd9f7148",
   "metadata": {},
   "outputs": [],
   "source": [
    "def month_to_str(df):\n",
    "    \"\"\"\n",
    "    Creates a new column with \"Month\" as string.\n",
    "    \"\"\"\n",
    "    map_dict = {\n",
    "        1: \"Jan\",\n",
    "        2: \"Feb\",\n",
    "        3: \"Mar\",\n",
    "        4: \"Apr\",\n",
    "        5: \"May\",\n",
    "        6: \"Jun\",\n",
    "        7: \"Jul\",\n",
    "        8: \"Aug\",\n",
    "        9: \"Sept\",\n",
    "        10: \"Oct\",\n",
    "        11: \"Nov\",\n",
    "        12: \"Dec\",\n",
    "    }\n",
    "    df[\"month_str\"] = df.Month.map(map_dict)\n",
    "    return df"
   ]
  },
  {
   "cell_type": "code",
   "execution_count": 8,
   "id": "b854e0b3",
   "metadata": {},
   "outputs": [],
   "source": [
    "def check_promo(row):\n",
    "    \"\"\"\n",
    "    Creates a new column \"PromoMonth\", which indicates whether the actual month is a promo-month.\n",
    "    \"\"\"\n",
    "    if (\n",
    "        isinstance(row[\"PromoInterval\"], str)\n",
    "        and row[\"month_str\"] in row[\"PromoInterval\"]\n",
    "    ):\n",
    "        return 1\n",
    "    else:\n",
    "        return 0"
   ]
  },
  {
   "cell_type": "code",
   "execution_count": 9,
   "id": "0f06d512",
   "metadata": {},
   "outputs": [],
   "source": [
    "train_data = add_time_features(train_data)\n",
    "train_data = drop_nans_nulls_closed(train_data)"
   ]
  },
  {
   "cell_type": "code",
   "execution_count": 10,
   "id": "624fe14a",
   "metadata": {},
   "outputs": [],
   "source": [
    "#  Merge train data with store data.\n",
    "merged_train = pd.merge(train_data, store_data, how=\"left\", on=\"Store\")"
   ]
  },
  {
   "cell_type": "code",
   "execution_count": 11,
   "id": "bdd0c30f-f956-4b96-a0c4-0932bd19ef62",
   "metadata": {},
   "outputs": [],
   "source": [
    "merged_train = recode(merged_train, [\"StoreType\", \"Assortment\", \"StateHoliday\"])"
   ]
  },
  {
   "cell_type": "code",
   "execution_count": 12,
   "id": "df124b79-1416-4b77-a1e3-7d9746b49596",
   "metadata": {},
   "outputs": [],
   "source": [
    "merged_train = month_to_str(merged_train)"
   ]
  },
  {
   "cell_type": "code",
   "execution_count": 13,
   "id": "a54553e5",
   "metadata": {},
   "outputs": [],
   "source": [
    "merged_train[\"PromoMonth\"] = merged_train.apply(lambda row: check_promo(row), axis=1)"
   ]
  },
  {
   "cell_type": "code",
   "execution_count": 15,
   "id": "81bd0e8b",
   "metadata": {},
   "outputs": [],
   "source": [
    "# Target encode \"Store\" into a new column.\n",
    "encoder = TargetEncoder()\n",
    "merged_train[\"Store_encoded\"] = encoder.fit_transform(\n",
    "    merged_train[\"Store\"], merged_train[\"Sales\"]\n",
    ")"
   ]
  },
  {
   "cell_type": "markdown",
   "id": "a9754edf",
   "metadata": {
    "jp-MarkdownHeadingCollapsed": true,
    "tags": []
   },
   "source": [
    "### 4. Load and prepare the holdout data"
   ]
  },
  {
   "cell_type": "code",
   "execution_count": 16,
   "id": "e4935eaf",
   "metadata": {},
   "outputs": [],
   "source": [
    "def drop_nn(df):\n",
    "    \"\"\"\n",
    "    Cleans dataframe by removing irrelevant information.\n",
    "    \"\"\"\n",
    "    df = df[df[\"Open\"] == 1]\n",
    "    df = df.dropna(subset=[\"Open\"])\n",
    "    df[\"StateHoliday\"].replace({0.0: \"0\"}, inplace=True)\n",
    "    try:\n",
    "        df = df.drop(labels=[\"Customers\"], axis=1)  # Drop customers.\n",
    "    except:\n",
    "        pass\n",
    "    return df"
   ]
  },
  {
   "cell_type": "code",
   "execution_count": 17,
   "id": "304ebc45",
   "metadata": {},
   "outputs": [],
   "source": [
    "holdout_data = pd.read_csv(\"../minicomp-rossman/data/holdout_b29.csv\")"
   ]
  },
  {
   "cell_type": "code",
   "execution_count": 18,
   "id": "db64c45a",
   "metadata": {},
   "outputs": [],
   "source": [
    "holdout_data = holdout_data.rename(columns={\"Unnamed: 0\": \"Id\"})\n",
    "holdout_data[\"Id\"] = holdout_data[\"Id\"] + 1"
   ]
  },
  {
   "cell_type": "code",
   "execution_count": 19,
   "id": "0e8db23b",
   "metadata": {},
   "outputs": [],
   "source": [
    "holdout_data = add_time_features(holdout_data)\n",
    "holdout_data = drop_nn(holdout_data)"
   ]
  },
  {
   "cell_type": "code",
   "execution_count": 20,
   "id": "28c65f05",
   "metadata": {},
   "outputs": [],
   "source": [
    "merged_holdout = pd.merge(holdout_data, store_data, how=\"left\", on=\"Store\")\n",
    "merged_holdout = recode(merged_holdout, [\"StoreType\", \"Assortment\", \"StateHoliday\"])\n",
    "merged_holdout = month_to_str(merged_holdout)\n",
    "merged_holdout[\"PromoMonth\"] = merged_holdout.apply(\n",
    "    lambda row: check_promo(row), axis=1\n",
    ")"
   ]
  },
  {
   "cell_type": "code",
   "execution_count": 36,
   "id": "fe183714",
   "metadata": {},
   "outputs": [],
   "source": [
    "# Apply target encoding\n",
    "merged_holdout[\"Store_encoded\"] = encoder.transform(merged_holdout[\"Store\"])"
   ]
  },
  {
   "cell_type": "markdown",
   "id": "1a2cc5b0-a032-445f-9ac9-5b8142f2864b",
   "metadata": {
    "jp-MarkdownHeadingCollapsed": true,
    "tags": []
   },
   "source": [
    "## Modelling with Gradient Boosted Tree"
   ]
  },
  {
   "cell_type": "markdown",
   "id": "7e3c0094",
   "metadata": {},
   "source": [
    "### 1. Define parameters"
   ]
  },
  {
   "cell_type": "code",
   "execution_count": 37,
   "id": "a94f49e3",
   "metadata": {},
   "outputs": [],
   "source": [
    "params = {\"objective\": \"reg:squarederror\", \"booster\": \"gbtree\", \"seed\": 10}"
   ]
  },
  {
   "cell_type": "code",
   "execution_count": 38,
   "id": "56a6e51a",
   "metadata": {},
   "outputs": [],
   "source": [
    "target = \"Sales\"\n",
    "\n",
    "my_features = [\n",
    "    \"Store\",\n",
    "    \"Year\",\n",
    "    \"Month\",\n",
    "    \"Day\",\n",
    "    \"WeekOfYear\",\n",
    "    \"DayOfWeek\",\n",
    "    \"StateHoliday\",\n",
    "    \"SchoolHoliday\",\n",
    "    \"CompetitionDistance\",\n",
    "    \"Promo2\",\n",
    "    \"StoreType\",\n",
    "    \"Assortment\",\n",
    "    \"Open\",\n",
    "    \"Promo\",\n",
    "    \"PromoMonth\",\n",
    "    \"Store_encoded\",\n",
    "]"
   ]
  },
  {
   "cell_type": "markdown",
   "id": "ed694623-6673-4591-a7cb-3e0fbad099da",
   "metadata": {},
   "source": [
    "### 2. Run Model"
   ]
  },
  {
   "cell_type": "code",
   "execution_count": 40,
   "id": "2400c3b7",
   "metadata": {
    "tags": []
   },
   "outputs": [],
   "source": [
    "dtrain = xgb.DMatrix(merged_train[my_features], label=merged_train[\"Sales\"], enable_categorical=True)\n",
    "xgb_model = xgb.train(params, dtrain, num_boost_round=1000, verbose_eval=False)"
   ]
  },
  {
   "cell_type": "code",
   "execution_count": 41,
   "id": "45d05c7d",
   "metadata": {},
   "outputs": [
    {
     "data": {
      "text/plain": [
       "<AxesSubplot:title={'center':'Feature importance'}, xlabel='F score', ylabel='Features'>"
      ]
     },
     "execution_count": 41,
     "metadata": {},
     "output_type": "execute_result"
    },
    {
     "data": {
      "image/png": "[encoded data removed]",
      "text/plain": [
       "<Figure size 432x288 with 1 Axes>"
      ]
     },
     "metadata": {
      "needs_background": "light"
     },
     "output_type": "display_data"
    }
   ],
   "source": [
    "plot_importance(xgb_model)"
   ]
  },
  {
   "cell_type": "code",
   "execution_count": 43,
   "id": "85edcdbf",
   "metadata": {},
   "outputs": [],
   "source": [
    "xgb_holdout = xgb.DMatrix(merged_holdout[my_features])\n",
    "pred = xgb_model.predict(xgb_holdout)"
   ]
  },
  {
   "cell_type": "markdown",
   "id": "6770381c-720e-4e8f-a21f-758db62a591b",
   "metadata": {
    "jp-MarkdownHeadingCollapsed": true,
    "tags": []
   },
   "source": [
    "## Generate submission file"
   ]
  },
  {
   "cell_type": "code",
   "execution_count": 44,
   "id": "09570e0f",
   "metadata": {},
   "outputs": [],
   "source": [
    "output = pd.DataFrame({\"Id\": holdout_data.Id, \"Sales\": pred})\n",
    "output.to_csv(\"Submission.csv\", index=False)"
   ]
  },
  {
   "cell_type": "code",
   "execution_count": 45,
   "id": "468e4452",
   "metadata": {},
   "outputs": [
    {
     "data": {
      "text/html": [
       "<div>\n",
       "<style scoped>\n",
       "    .dataframe tbody tr th:only-of-type {\n",
       "        vertical-align: middle;\n",
       "    }\n",
       "\n",
       "    .dataframe tbody tr th {\n",
       "        vertical-align: top;\n",
       "    }\n",
       "\n",
       "    .dataframe thead th {\n",
       "        text-align: right;\n",
       "    }\n",
       "</style>\n",
       "<table border=\"1\" class=\"dataframe\">\n",
       "  <thead>\n",
       "    <tr style=\"text-align: right;\">\n",
       "      <th></th>\n",
       "      <th>Id</th>\n",
       "      <th>Sales</th>\n",
       "    </tr>\n",
       "  </thead>\n",
       "  <tbody>\n",
       "    <tr>\n",
       "      <th>0</th>\n",
       "      <td>1</td>\n",
       "      <td>7841.7310</td>\n",
       "    </tr>\n",
       "    <tr>\n",
       "      <th>1</th>\n",
       "      <td>2</td>\n",
       "      <td>9701.5040</td>\n",
       "    </tr>\n",
       "    <tr>\n",
       "      <th>2</th>\n",
       "      <td>3</td>\n",
       "      <td>5157.3564</td>\n",
       "    </tr>\n",
       "    <tr>\n",
       "      <th>3</th>\n",
       "      <td>4</td>\n",
       "      <td>17241.9670</td>\n",
       "    </tr>\n",
       "    <tr>\n",
       "      <th>4</th>\n",
       "      <td>5</td>\n",
       "      <td>7395.7270</td>\n",
       "    </tr>\n",
       "  </tbody>\n",
       "</table>\n",
       "</div>"
      ],
      "text/plain": [
       "   Id       Sales\n",
       "0   1   7841.7310\n",
       "1   2   9701.5040\n",
       "2   3   5157.3564\n",
       "3   4  17241.9670\n",
       "4   5   7395.7270"
      ]
     },
     "execution_count": 45,
     "metadata": {},
     "output_type": "execute_result"
    }
   ],
   "source": [
    "sub = pd.read_csv(\"Submission.csv\")\n",
    "sub.head()"
   ]
  },
  {
   "cell_type": "code",
   "execution_count": null,
   "id": "a22e45d0",
   "metadata": {},
   "outputs": [],
   "source": []
  },
  {
   "cell_type": "code",
   "execution_count": null,
   "id": "2cdb7995",
   "metadata": {},
   "outputs": [],
   "source": []
  }
 ],
 "metadata": {
  "kernelspec": {
   "display_name": "mini_comp",
   "language": "python",
   "name": "mini_comp"
  },
  "language_info": {
   "codemirror_mode": {
    "name": "ipython",
    "version": 3
   },
   "file_extension": ".py",
   "mimetype": "text/x-python",
   "name": "python",
   "nbconvert_exporter": "python",
   "pygments_lexer": "ipython3",
   "version": "3.8.12"
  }
 },
 "nbformat": 4,
 "nbformat_minor": 5
}
