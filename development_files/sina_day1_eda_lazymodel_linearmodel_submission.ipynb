{
 "cells": [
  {
   "cell_type": "code",
   "execution_count": 174,
   "id": "22a54651",
   "metadata": {},
   "outputs": [],
   "source": [
    "import pandas as pd\n",
    "import numpy as np\n",
    "from pandas_profiling import ProfileReport"
   ]
  },
  {
   "cell_type": "markdown",
   "id": "8917f539",
   "metadata": {},
   "source": [
    "### load the data"
   ]
  },
  {
   "cell_type": "code",
   "execution_count": 175,
   "id": "dcf839d8",
   "metadata": {},
   "outputs": [
    {
     "name": "stderr",
     "output_type": "stream",
     "text": [
      "/Users/sinarampe/opt/anaconda3/envs/mini_comp/lib/python3.8/site-packages/IPython/core/interactiveshell.py:3457: DtypeWarning: Columns (7) have mixed types.Specify dtype option on import or set low_memory=False.\n",
      "  exec(code_obj, self.user_global_ns, self.user_ns)\n"
     ]
    }
   ],
   "source": [
    "train_data = pd.read_csv(\"../minicomp-rossman/data/train.csv\")"
   ]
  },
  {
   "cell_type": "markdown",
   "id": "9cab68e2",
   "metadata": {},
   "source": [
    "### some basic EDA and Datacleaning"
   ]
  },
  {
   "cell_type": "code",
   "execution_count": 176,
   "id": "79260483",
   "metadata": {},
   "outputs": [
    {
     "data": {
      "text/html": [
       "<div>\n",
       "<style scoped>\n",
       "    .dataframe tbody tr th:only-of-type {\n",
       "        vertical-align: middle;\n",
       "    }\n",
       "\n",
       "    .dataframe tbody tr th {\n",
       "        vertical-align: top;\n",
       "    }\n",
       "\n",
       "    .dataframe thead th {\n",
       "        text-align: right;\n",
       "    }\n",
       "</style>\n",
       "<table border=\"1\" class=\"dataframe\">\n",
       "  <thead>\n",
       "    <tr style=\"text-align: right;\">\n",
       "      <th></th>\n",
       "      <th>Date</th>\n",
       "      <th>Store</th>\n",
       "      <th>DayOfWeek</th>\n",
       "      <th>Sales</th>\n",
       "      <th>Customers</th>\n",
       "      <th>Open</th>\n",
       "      <th>Promo</th>\n",
       "      <th>StateHoliday</th>\n",
       "      <th>SchoolHoliday</th>\n",
       "    </tr>\n",
       "  </thead>\n",
       "  <tbody>\n",
       "    <tr>\n",
       "      <th>0</th>\n",
       "      <td>2013-01-01</td>\n",
       "      <td>1115.0</td>\n",
       "      <td>2.0</td>\n",
       "      <td>0.0</td>\n",
       "      <td>0.0</td>\n",
       "      <td>0.0</td>\n",
       "      <td>0.0</td>\n",
       "      <td>a</td>\n",
       "      <td>1.0</td>\n",
       "    </tr>\n",
       "    <tr>\n",
       "      <th>1</th>\n",
       "      <td>2013-01-01</td>\n",
       "      <td>379.0</td>\n",
       "      <td>2.0</td>\n",
       "      <td>0.0</td>\n",
       "      <td>0.0</td>\n",
       "      <td>0.0</td>\n",
       "      <td>0.0</td>\n",
       "      <td>a</td>\n",
       "      <td>1.0</td>\n",
       "    </tr>\n",
       "    <tr>\n",
       "      <th>2</th>\n",
       "      <td>2013-01-01</td>\n",
       "      <td>378.0</td>\n",
       "      <td>2.0</td>\n",
       "      <td>0.0</td>\n",
       "      <td>0.0</td>\n",
       "      <td>0.0</td>\n",
       "      <td>0.0</td>\n",
       "      <td>a</td>\n",
       "      <td>1.0</td>\n",
       "    </tr>\n",
       "    <tr>\n",
       "      <th>3</th>\n",
       "      <td>2013-01-01</td>\n",
       "      <td>377.0</td>\n",
       "      <td>2.0</td>\n",
       "      <td>0.0</td>\n",
       "      <td>0.0</td>\n",
       "      <td>0.0</td>\n",
       "      <td>0.0</td>\n",
       "      <td>a</td>\n",
       "      <td>1.0</td>\n",
       "    </tr>\n",
       "    <tr>\n",
       "      <th>4</th>\n",
       "      <td>2013-01-01</td>\n",
       "      <td>376.0</td>\n",
       "      <td>2.0</td>\n",
       "      <td>0.0</td>\n",
       "      <td>0.0</td>\n",
       "      <td>0.0</td>\n",
       "      <td>0.0</td>\n",
       "      <td>a</td>\n",
       "      <td>1.0</td>\n",
       "    </tr>\n",
       "  </tbody>\n",
       "</table>\n",
       "</div>"
      ],
      "text/plain": [
       "         Date   Store  DayOfWeek  Sales  Customers  Open  Promo StateHoliday  \\\n",
       "0  2013-01-01  1115.0        2.0    0.0        0.0   0.0    0.0            a   \n",
       "1  2013-01-01   379.0        2.0    0.0        0.0   0.0    0.0            a   \n",
       "2  2013-01-01   378.0        2.0    0.0        0.0   0.0    0.0            a   \n",
       "3  2013-01-01   377.0        2.0    0.0        0.0   0.0    0.0            a   \n",
       "4  2013-01-01   376.0        2.0    0.0        0.0   0.0    0.0            a   \n",
       "\n",
       "   SchoolHoliday  \n",
       "0            1.0  \n",
       "1            1.0  \n",
       "2            1.0  \n",
       "3            1.0  \n",
       "4            1.0  "
      ]
     },
     "execution_count": 176,
     "metadata": {},
     "output_type": "execute_result"
    }
   ],
   "source": [
    "train_data.head()"
   ]
  },
  {
   "cell_type": "code",
   "execution_count": 177,
   "id": "be151cd2",
   "metadata": {},
   "outputs": [
    {
     "data": {
      "text/plain": [
       "(637774, 9)"
      ]
     },
     "execution_count": 177,
     "metadata": {},
     "output_type": "execute_result"
    }
   ],
   "source": [
    "train_data.shape"
   ]
  },
  {
   "cell_type": "markdown",
   "id": "df92e132",
   "metadata": {},
   "source": [
    "##### Zero sales days are ignored in scoring - the pipeline should look for these rows and drop them"
   ]
  },
  {
   "cell_type": "code",
   "execution_count": 178,
   "id": "594fd0c3",
   "metadata": {},
   "outputs": [],
   "source": [
    "train_data = train_data[train_data[\"Sales\"]!=0]\n",
    "train_data = train_data.dropna(subset = [\"Sales\"])"
   ]
  },
  {
   "cell_type": "markdown",
   "id": "5eaedc58",
   "metadata": {},
   "source": [
    "##### The Test Data doest have a Customer-Column, so we drop it. The Weekday is encoded in the Date column, so we drop it."
   ]
  },
  {
   "cell_type": "code",
   "execution_count": 179,
   "id": "f7ae187d",
   "metadata": {},
   "outputs": [],
   "source": [
    "train_data = train_data.drop(labels=[\"Customers\", \"DayOfWeek\"], axis=1)"
   ]
  },
  {
   "cell_type": "markdown",
   "id": "0517a606",
   "metadata": {},
   "source": [
    "##### convert Date column from str to dt, then create Y, m, d-column"
   ]
  },
  {
   "cell_type": "code",
   "execution_count": 180,
   "id": "bfbde203",
   "metadata": {},
   "outputs": [],
   "source": [
    "train_data['Date'] = pd.to_datetime(train_data['Date'])\n",
    "train_data[\"day\"] = train_data['Date'].map(lambda x: x.day)\n",
    "train_data[\"month\"] = train_data['Date'].map(lambda x: x.month)\n",
    "train_data[\"year\"] =  train_data['Date'].map(lambda x: x.year)- 2013\n",
    "train_data = train_data.drop(labels=\"Date\", axis=1)"
   ]
  },
  {
   "cell_type": "markdown",
   "id": "b585df5c",
   "metadata": {},
   "source": [
    "##### drop rows with nan values"
   ]
  },
  {
   "cell_type": "code",
   "execution_count": 181,
   "id": "c479602d",
   "metadata": {},
   "outputs": [],
   "source": [
    "train_data = train_data.dropna(subset = [\"Store\", \"Open\", \"Promo\", \"StateHoliday\", \"SchoolHoliday\"])"
   ]
  },
  {
   "cell_type": "markdown",
   "id": "2292fd6d",
   "metadata": {},
   "source": [
    "##### StateHoliday column has \"0\" as str and 0.0 as float -> convert all to str"
   ]
  },
  {
   "cell_type": "code",
   "execution_count": 182,
   "id": "98fb8ff1",
   "metadata": {},
   "outputs": [
    {
     "data": {
      "text/plain": [
       "array(['a', '0', 'b', 'c'], dtype=object)"
      ]
     },
     "execution_count": 182,
     "metadata": {},
     "output_type": "execute_result"
    }
   ],
   "source": [
    "train_data[\"StateHoliday\"].replace({0.0: \"0\"}, inplace=True)\n",
    "train_data[\"StateHoliday\"].unique()"
   ]
  },
  {
   "cell_type": "code",
   "execution_count": 183,
   "id": "e89ebca8",
   "metadata": {},
   "outputs": [
    {
     "name": "stdout",
     "output_type": "stream",
     "text": [
      "(439929, 9)\n"
     ]
    },
    {
     "data": {
      "text/plain": [
       "Store            0\n",
       "Sales            0\n",
       "Open             0\n",
       "Promo            0\n",
       "StateHoliday     0\n",
       "SchoolHoliday    0\n",
       "day              0\n",
       "month            0\n",
       "year             0\n",
       "dtype: int64"
      ]
     },
     "execution_count": 183,
     "metadata": {},
     "output_type": "execute_result"
    }
   ],
   "source": [
    "print(train_data.shape)\n",
    "train_data.isna().sum()"
   ]
  },
  {
   "cell_type": "code",
   "execution_count": 184,
   "id": "0daf223a",
   "metadata": {},
   "outputs": [],
   "source": [
    "##### understand the data with Pandas Profiler"
   ]
  },
  {
   "cell_type": "code",
   "execution_count": 123,
   "id": "9caad411",
   "metadata": {},
   "outputs": [],
   "source": [
    "# profile = ProfileReport(train_data)"
   ]
  },
  {
   "cell_type": "code",
   "execution_count": 124,
   "id": "fb0e7480",
   "metadata": {},
   "outputs": [],
   "source": [
    "# profile"
   ]
  },
  {
   "cell_type": "markdown",
   "id": "8ef5cba7",
   "metadata": {},
   "source": [
    "### Initial baseline modelling - just taking the mean"
   ]
  },
  {
   "cell_type": "code",
   "execution_count": 185,
   "id": "08707de0",
   "metadata": {},
   "outputs": [],
   "source": [
    "train = train_data.iloc[:int(0.8*train_data.shape[0]), :]\n",
    "test = train_data.iloc[int(0.8*train_data.shape[0]):, :]\n",
    "\n",
    "x_train = train.drop(labels=\"Sales\", axis=1)\n",
    "y_train = train.loc[:, \"Sales\"]\n",
    "x_test = test.drop(labels=\"Sales\", axis=1)\n",
    "y_test = test.loc[:, \"Sales\"]"
   ]
  },
  {
   "cell_type": "code",
   "execution_count": 186,
   "id": "4011375f",
   "metadata": {},
   "outputs": [],
   "source": [
    "from sklearn.metrics import mean_squared_error\n",
    "from math import sqrt\n",
    "\n",
    "# defining evaluation metric\n",
    "def compute_rmse(actual, prediction):\n",
    "    \"\"\"\n",
    "    Computs RMSE (root mean squared error) between predictions from a model\n",
    "    and the actual values of the target variable.\n",
    "    \"\"\"\n",
    "    \n",
    "    rmse = sqrt(mean_squared_error(actual, prediction))\n",
    "    \n",
    "    # rounding to 2 decimal places\n",
    "    print('RMSE is ', round(rmse,2))\n",
    "    \n",
    "    return rmse"
   ]
  },
  {
   "cell_type": "code",
   "execution_count": 187,
   "id": "82a07abe",
   "metadata": {},
   "outputs": [
    {
     "data": {
      "text/html": [
       "<div>\n",
       "<style scoped>\n",
       "    .dataframe tbody tr th:only-of-type {\n",
       "        vertical-align: middle;\n",
       "    }\n",
       "\n",
       "    .dataframe tbody tr th {\n",
       "        vertical-align: top;\n",
       "    }\n",
       "\n",
       "    .dataframe thead th {\n",
       "        text-align: right;\n",
       "    }\n",
       "</style>\n",
       "<table border=\"1\" class=\"dataframe\">\n",
       "  <thead>\n",
       "    <tr style=\"text-align: right;\">\n",
       "      <th></th>\n",
       "      <th>Sales</th>\n",
       "      <th>predicted_sales</th>\n",
       "    </tr>\n",
       "  </thead>\n",
       "  <tbody>\n",
       "    <tr>\n",
       "      <th>508072</th>\n",
       "      <td>7189.0</td>\n",
       "      <td>6779.0</td>\n",
       "    </tr>\n",
       "    <tr>\n",
       "      <th>508073</th>\n",
       "      <td>8793.0</td>\n",
       "      <td>6779.0</td>\n",
       "    </tr>\n",
       "    <tr>\n",
       "      <th>508074</th>\n",
       "      <td>10151.0</td>\n",
       "      <td>6779.0</td>\n",
       "    </tr>\n",
       "    <tr>\n",
       "      <th>508075</th>\n",
       "      <td>9479.0</td>\n",
       "      <td>6779.0</td>\n",
       "    </tr>\n",
       "    <tr>\n",
       "      <th>508076</th>\n",
       "      <td>7084.0</td>\n",
       "      <td>6779.0</td>\n",
       "    </tr>\n",
       "  </tbody>\n",
       "</table>\n",
       "</div>"
      ],
      "text/plain": [
       "          Sales  predicted_sales\n",
       "508072   7189.0           6779.0\n",
       "508073   8793.0           6779.0\n",
       "508074  10151.0           6779.0\n",
       "508075   9479.0           6779.0\n",
       "508076   7084.0           6779.0"
      ]
     },
     "execution_count": 187,
     "metadata": {},
     "output_type": "execute_result"
    }
   ],
   "source": [
    "lazy_estimator_predictions = pd.DataFrame(y_test.copy())\n",
    "\n",
    "# using mean of entire training set\n",
    "lazy_estimator_predictions.loc[:,'predicted_sales'] = y_train.mean()\n",
    "lazy_estimator_predictions.head().round()"
   ]
  },
  {
   "cell_type": "code",
   "execution_count": 192,
   "id": "772d7a1a",
   "metadata": {},
   "outputs": [
    {
     "name": "stdout",
     "output_type": "stream",
     "text": [
      "RMSE is  3105.15\n",
      "mean absolute percantage error is 0.43928673483994946\n"
     ]
    }
   ],
   "source": [
    "lazy_estimator_rmse = compute_rmse(y_test, lazy_estimator_predictions.loc[:, 'predicted_sales']) \n",
    "print(\"mean absolute percantage error is \" + str(lazy_estimator_rmse / y_test.mean()))"
   ]
  },
  {
   "cell_type": "markdown",
   "id": "ccac4761",
   "metadata": {},
   "source": [
    "### Linear Regression model"
   ]
  },
  {
   "cell_type": "code",
   "execution_count": 194,
   "id": "309eed1e",
   "metadata": {},
   "outputs": [],
   "source": [
    "# one-hot-encode StateHoliday Column\n",
    "import category_encoders as ce\n",
    "\n",
    "ce_one = ce.OneHotEncoder(cols=[\"StateHoliday\"]) \n",
    "ce_one_train = ce_one.fit_transform(x_train)\n",
    "ce_one_test = ce_one.transform(x_test)"
   ]
  },
  {
   "cell_type": "code",
   "execution_count": 195,
   "id": "f0f0a82a",
   "metadata": {},
   "outputs": [
    {
     "data": {
      "text/html": [
       "<div>\n",
       "<style scoped>\n",
       "    .dataframe tbody tr th:only-of-type {\n",
       "        vertical-align: middle;\n",
       "    }\n",
       "\n",
       "    .dataframe tbody tr th {\n",
       "        vertical-align: top;\n",
       "    }\n",
       "\n",
       "    .dataframe thead th {\n",
       "        text-align: right;\n",
       "    }\n",
       "</style>\n",
       "<table border=\"1\" class=\"dataframe\">\n",
       "  <thead>\n",
       "    <tr style=\"text-align: right;\">\n",
       "      <th></th>\n",
       "      <th>Store</th>\n",
       "      <th>Open</th>\n",
       "      <th>Promo</th>\n",
       "      <th>StateHoliday_1</th>\n",
       "      <th>StateHoliday_2</th>\n",
       "      <th>StateHoliday_3</th>\n",
       "      <th>StateHoliday_4</th>\n",
       "      <th>SchoolHoliday</th>\n",
       "      <th>day</th>\n",
       "      <th>month</th>\n",
       "      <th>year</th>\n",
       "    </tr>\n",
       "  </thead>\n",
       "  <tbody>\n",
       "    <tr>\n",
       "      <th>27</th>\n",
       "      <td>353.0</td>\n",
       "      <td>1.0</td>\n",
       "      <td>0.0</td>\n",
       "      <td>1</td>\n",
       "      <td>0</td>\n",
       "      <td>0</td>\n",
       "      <td>0</td>\n",
       "      <td>1.0</td>\n",
       "      <td>1</td>\n",
       "      <td>1</td>\n",
       "      <td>0</td>\n",
       "    </tr>\n",
       "    <tr>\n",
       "      <th>115</th>\n",
       "      <td>335.0</td>\n",
       "      <td>1.0</td>\n",
       "      <td>0.0</td>\n",
       "      <td>1</td>\n",
       "      <td>0</td>\n",
       "      <td>0</td>\n",
       "      <td>0</td>\n",
       "      <td>1.0</td>\n",
       "      <td>1</td>\n",
       "      <td>1</td>\n",
       "      <td>0</td>\n",
       "    </tr>\n",
       "    <tr>\n",
       "      <th>147</th>\n",
       "      <td>512.0</td>\n",
       "      <td>1.0</td>\n",
       "      <td>0.0</td>\n",
       "      <td>1</td>\n",
       "      <td>0</td>\n",
       "      <td>0</td>\n",
       "      <td>0</td>\n",
       "      <td>1.0</td>\n",
       "      <td>1</td>\n",
       "      <td>1</td>\n",
       "      <td>0</td>\n",
       "    </tr>\n",
       "    <tr>\n",
       "      <th>162</th>\n",
       "      <td>494.0</td>\n",
       "      <td>1.0</td>\n",
       "      <td>0.0</td>\n",
       "      <td>1</td>\n",
       "      <td>0</td>\n",
       "      <td>0</td>\n",
       "      <td>0</td>\n",
       "      <td>1.0</td>\n",
       "      <td>1</td>\n",
       "      <td>1</td>\n",
       "      <td>0</td>\n",
       "    </tr>\n",
       "    <tr>\n",
       "      <th>199</th>\n",
       "      <td>530.0</td>\n",
       "      <td>1.0</td>\n",
       "      <td>0.0</td>\n",
       "      <td>1</td>\n",
       "      <td>0</td>\n",
       "      <td>0</td>\n",
       "      <td>0</td>\n",
       "      <td>1.0</td>\n",
       "      <td>1</td>\n",
       "      <td>1</td>\n",
       "      <td>0</td>\n",
       "    </tr>\n",
       "  </tbody>\n",
       "</table>\n",
       "</div>"
      ],
      "text/plain": [
       "     Store  Open  Promo  StateHoliday_1  StateHoliday_2  StateHoliday_3  \\\n",
       "27   353.0   1.0    0.0               1               0               0   \n",
       "115  335.0   1.0    0.0               1               0               0   \n",
       "147  512.0   1.0    0.0               1               0               0   \n",
       "162  494.0   1.0    0.0               1               0               0   \n",
       "199  530.0   1.0    0.0               1               0               0   \n",
       "\n",
       "     StateHoliday_4  SchoolHoliday  day  month  year  \n",
       "27                0            1.0    1      1     0  \n",
       "115               0            1.0    1      1     0  \n",
       "147               0            1.0    1      1     0  \n",
       "162               0            1.0    1      1     0  \n",
       "199               0            1.0    1      1     0  "
      ]
     },
     "execution_count": 195,
     "metadata": {},
     "output_type": "execute_result"
    }
   ],
   "source": [
    "ce_one_train.head()"
   ]
  },
  {
   "cell_type": "code",
   "execution_count": 196,
   "id": "3bd798de",
   "metadata": {},
   "outputs": [],
   "source": [
    "from sklearn.linear_model import LinearRegression\n",
    "\n",
    "linear_regression_model = LinearRegression()\n",
    "linear_regression_model.fit(ce_one_train, y_train)\n",
    "linear_regression_predictions = linear_regression_model.predict(ce_one_test)"
   ]
  },
  {
   "cell_type": "code",
   "execution_count": 198,
   "id": "f579166c",
   "metadata": {},
   "outputs": [
    {
     "name": "stdout",
     "output_type": "stream",
     "text": [
      "RMSE is  2828.98\n",
      "mean absolute percantage error is 0.4002163175187697\n"
     ]
    }
   ],
   "source": [
    "linear_regression_rmse = compute_rmse(y_test, linear_regression_predictions) \n",
    "print(\"mean absolute percantage error is \" + str(linear_regression_rmse / y_test.mean()))"
   ]
  },
  {
   "cell_type": "markdown",
   "id": "dc0b6093",
   "metadata": {},
   "source": [
    "### Make predictions on Holdout_data and create a submission.csv file"
   ]
  },
  {
   "cell_type": "code",
   "execution_count": 165,
   "id": "198b4152",
   "metadata": {},
   "outputs": [
    {
     "name": "stderr",
     "output_type": "stream",
     "text": [
      "/Users/sinarampe/opt/anaconda3/envs/mini_comp/lib/python3.8/site-packages/IPython/core/interactiveshell.py:3457: DtypeWarning: Columns (7) have mixed types.Specify dtype option on import or set low_memory=False.\n",
      "  exec(code_obj, self.user_global_ns, self.user_ns)\n"
     ]
    }
   ],
   "source": [
    "holdout_data = pd.read_csv(\"../minicomp-rossman/data/holdout_b29.csv\")"
   ]
  },
  {
   "cell_type": "code",
   "execution_count": 166,
   "id": "f6cc6718",
   "metadata": {},
   "outputs": [
    {
     "data": {
      "text/html": [
       "<div>\n",
       "<style scoped>\n",
       "    .dataframe tbody tr th:only-of-type {\n",
       "        vertical-align: middle;\n",
       "    }\n",
       "\n",
       "    .dataframe tbody tr th {\n",
       "        vertical-align: top;\n",
       "    }\n",
       "\n",
       "    .dataframe thead th {\n",
       "        text-align: right;\n",
       "    }\n",
       "</style>\n",
       "<table border=\"1\" class=\"dataframe\">\n",
       "  <thead>\n",
       "    <tr style=\"text-align: right;\">\n",
       "      <th></th>\n",
       "      <th>Unnamed: 0</th>\n",
       "      <th>Date</th>\n",
       "      <th>Store</th>\n",
       "      <th>DayOfWeek</th>\n",
       "      <th>Customers</th>\n",
       "      <th>Open</th>\n",
       "      <th>Promo</th>\n",
       "      <th>StateHoliday</th>\n",
       "      <th>SchoolHoliday</th>\n",
       "    </tr>\n",
       "  </thead>\n",
       "  <tbody>\n",
       "    <tr>\n",
       "      <th>0</th>\n",
       "      <td>0</td>\n",
       "      <td>2014-08-01</td>\n",
       "      <td>371</td>\n",
       "      <td>5</td>\n",
       "      <td>550</td>\n",
       "      <td>1</td>\n",
       "      <td>1</td>\n",
       "      <td>0</td>\n",
       "      <td>1</td>\n",
       "    </tr>\n",
       "    <tr>\n",
       "      <th>1</th>\n",
       "      <td>1</td>\n",
       "      <td>2014-08-01</td>\n",
       "      <td>372</td>\n",
       "      <td>5</td>\n",
       "      <td>815</td>\n",
       "      <td>1</td>\n",
       "      <td>1</td>\n",
       "      <td>0</td>\n",
       "      <td>1</td>\n",
       "    </tr>\n",
       "    <tr>\n",
       "      <th>2</th>\n",
       "      <td>2</td>\n",
       "      <td>2014-08-01</td>\n",
       "      <td>373</td>\n",
       "      <td>5</td>\n",
       "      <td>357</td>\n",
       "      <td>1</td>\n",
       "      <td>1</td>\n",
       "      <td>0</td>\n",
       "      <td>1</td>\n",
       "    </tr>\n",
       "    <tr>\n",
       "      <th>3</th>\n",
       "      <td>3</td>\n",
       "      <td>2014-08-01</td>\n",
       "      <td>380</td>\n",
       "      <td>5</td>\n",
       "      <td>1512</td>\n",
       "      <td>1</td>\n",
       "      <td>1</td>\n",
       "      <td>0</td>\n",
       "      <td>1</td>\n",
       "    </tr>\n",
       "    <tr>\n",
       "      <th>4</th>\n",
       "      <td>4</td>\n",
       "      <td>2014-08-01</td>\n",
       "      <td>374</td>\n",
       "      <td>5</td>\n",
       "      <td>878</td>\n",
       "      <td>1</td>\n",
       "      <td>1</td>\n",
       "      <td>0</td>\n",
       "      <td>1</td>\n",
       "    </tr>\n",
       "  </tbody>\n",
       "</table>\n",
       "</div>"
      ],
      "text/plain": [
       "   Unnamed: 0        Date  Store  DayOfWeek  Customers  Open  Promo  \\\n",
       "0           0  2014-08-01    371          5        550     1      1   \n",
       "1           1  2014-08-01    372          5        815     1      1   \n",
       "2           2  2014-08-01    373          5        357     1      1   \n",
       "3           3  2014-08-01    380          5       1512     1      1   \n",
       "4           4  2014-08-01    374          5        878     1      1   \n",
       "\n",
       "  StateHoliday  SchoolHoliday  \n",
       "0            0              1  \n",
       "1            0              1  \n",
       "2            0              1  \n",
       "3            0              1  \n",
       "4            0              1  "
      ]
     },
     "execution_count": 166,
     "metadata": {},
     "output_type": "execute_result"
    }
   ],
   "source": [
    "holdout_data.head()"
   ]
  },
  {
   "cell_type": "code",
   "execution_count": 167,
   "id": "852b75c7",
   "metadata": {},
   "outputs": [
    {
     "data": {
      "text/html": [
       "<div>\n",
       "<style scoped>\n",
       "    .dataframe tbody tr th:only-of-type {\n",
       "        vertical-align: middle;\n",
       "    }\n",
       "\n",
       "    .dataframe tbody tr th {\n",
       "        vertical-align: top;\n",
       "    }\n",
       "\n",
       "    .dataframe thead th {\n",
       "        text-align: right;\n",
       "    }\n",
       "</style>\n",
       "<table border=\"1\" class=\"dataframe\">\n",
       "  <thead>\n",
       "    <tr style=\"text-align: right;\">\n",
       "      <th></th>\n",
       "      <th>Id</th>\n",
       "      <th>Date</th>\n",
       "      <th>Store</th>\n",
       "      <th>DayOfWeek</th>\n",
       "      <th>Customers</th>\n",
       "      <th>Open</th>\n",
       "      <th>Promo</th>\n",
       "      <th>StateHoliday</th>\n",
       "      <th>SchoolHoliday</th>\n",
       "    </tr>\n",
       "  </thead>\n",
       "  <tbody>\n",
       "    <tr>\n",
       "      <th>0</th>\n",
       "      <td>1</td>\n",
       "      <td>2014-08-01</td>\n",
       "      <td>371</td>\n",
       "      <td>5</td>\n",
       "      <td>550</td>\n",
       "      <td>1</td>\n",
       "      <td>1</td>\n",
       "      <td>0</td>\n",
       "      <td>1</td>\n",
       "    </tr>\n",
       "    <tr>\n",
       "      <th>1</th>\n",
       "      <td>2</td>\n",
       "      <td>2014-08-01</td>\n",
       "      <td>372</td>\n",
       "      <td>5</td>\n",
       "      <td>815</td>\n",
       "      <td>1</td>\n",
       "      <td>1</td>\n",
       "      <td>0</td>\n",
       "      <td>1</td>\n",
       "    </tr>\n",
       "    <tr>\n",
       "      <th>2</th>\n",
       "      <td>3</td>\n",
       "      <td>2014-08-01</td>\n",
       "      <td>373</td>\n",
       "      <td>5</td>\n",
       "      <td>357</td>\n",
       "      <td>1</td>\n",
       "      <td>1</td>\n",
       "      <td>0</td>\n",
       "      <td>1</td>\n",
       "    </tr>\n",
       "    <tr>\n",
       "      <th>3</th>\n",
       "      <td>4</td>\n",
       "      <td>2014-08-01</td>\n",
       "      <td>380</td>\n",
       "      <td>5</td>\n",
       "      <td>1512</td>\n",
       "      <td>1</td>\n",
       "      <td>1</td>\n",
       "      <td>0</td>\n",
       "      <td>1</td>\n",
       "    </tr>\n",
       "    <tr>\n",
       "      <th>4</th>\n",
       "      <td>5</td>\n",
       "      <td>2014-08-01</td>\n",
       "      <td>374</td>\n",
       "      <td>5</td>\n",
       "      <td>878</td>\n",
       "      <td>1</td>\n",
       "      <td>1</td>\n",
       "      <td>0</td>\n",
       "      <td>1</td>\n",
       "    </tr>\n",
       "  </tbody>\n",
       "</table>\n",
       "</div>"
      ],
      "text/plain": [
       "   Id        Date  Store  DayOfWeek  Customers  Open  Promo StateHoliday  \\\n",
       "0   1  2014-08-01    371          5        550     1      1            0   \n",
       "1   2  2014-08-01    372          5        815     1      1            0   \n",
       "2   3  2014-08-01    373          5        357     1      1            0   \n",
       "3   4  2014-08-01    380          5       1512     1      1            0   \n",
       "4   5  2014-08-01    374          5        878     1      1            0   \n",
       "\n",
       "   SchoolHoliday  \n",
       "0              1  \n",
       "1              1  \n",
       "2              1  \n",
       "3              1  \n",
       "4              1  "
      ]
     },
     "execution_count": 167,
     "metadata": {},
     "output_type": "execute_result"
    }
   ],
   "source": [
    "holdout_data = holdout_data.rename(columns={\"Unnamed: 0\": \"Id\"})\n",
    "holdout_data[\"Id\"] = holdout_data[\"Id\"] + 1\n",
    "holdout_data.head()"
   ]
  },
  {
   "cell_type": "code",
   "execution_count": 146,
   "id": "553ae03d",
   "metadata": {},
   "outputs": [
    {
     "data": {
      "text/html": [
       "<div>\n",
       "<style scoped>\n",
       "    .dataframe tbody tr th:only-of-type {\n",
       "        vertical-align: middle;\n",
       "    }\n",
       "\n",
       "    .dataframe tbody tr th {\n",
       "        vertical-align: top;\n",
       "    }\n",
       "\n",
       "    .dataframe thead th {\n",
       "        text-align: right;\n",
       "    }\n",
       "</style>\n",
       "<table border=\"1\" class=\"dataframe\">\n",
       "  <thead>\n",
       "    <tr style=\"text-align: right;\">\n",
       "      <th></th>\n",
       "      <th>Store</th>\n",
       "      <th>Open</th>\n",
       "      <th>Promo</th>\n",
       "      <th>StateHoliday_1</th>\n",
       "      <th>StateHoliday_2</th>\n",
       "      <th>StateHoliday_3</th>\n",
       "      <th>StateHoliday_4</th>\n",
       "      <th>SchoolHoliday</th>\n",
       "      <th>day</th>\n",
       "      <th>month</th>\n",
       "      <th>year</th>\n",
       "    </tr>\n",
       "  </thead>\n",
       "  <tbody>\n",
       "    <tr>\n",
       "      <th>0</th>\n",
       "      <td>371</td>\n",
       "      <td>1</td>\n",
       "      <td>1</td>\n",
       "      <td>0</td>\n",
       "      <td>1</td>\n",
       "      <td>0</td>\n",
       "      <td>0</td>\n",
       "      <td>1</td>\n",
       "      <td>1</td>\n",
       "      <td>8</td>\n",
       "      <td>1</td>\n",
       "    </tr>\n",
       "    <tr>\n",
       "      <th>1</th>\n",
       "      <td>372</td>\n",
       "      <td>1</td>\n",
       "      <td>1</td>\n",
       "      <td>0</td>\n",
       "      <td>1</td>\n",
       "      <td>0</td>\n",
       "      <td>0</td>\n",
       "      <td>1</td>\n",
       "      <td>1</td>\n",
       "      <td>8</td>\n",
       "      <td>1</td>\n",
       "    </tr>\n",
       "    <tr>\n",
       "      <th>2</th>\n",
       "      <td>373</td>\n",
       "      <td>1</td>\n",
       "      <td>1</td>\n",
       "      <td>0</td>\n",
       "      <td>1</td>\n",
       "      <td>0</td>\n",
       "      <td>0</td>\n",
       "      <td>1</td>\n",
       "      <td>1</td>\n",
       "      <td>8</td>\n",
       "      <td>1</td>\n",
       "    </tr>\n",
       "    <tr>\n",
       "      <th>3</th>\n",
       "      <td>380</td>\n",
       "      <td>1</td>\n",
       "      <td>1</td>\n",
       "      <td>0</td>\n",
       "      <td>1</td>\n",
       "      <td>0</td>\n",
       "      <td>0</td>\n",
       "      <td>1</td>\n",
       "      <td>1</td>\n",
       "      <td>8</td>\n",
       "      <td>1</td>\n",
       "    </tr>\n",
       "    <tr>\n",
       "      <th>4</th>\n",
       "      <td>374</td>\n",
       "      <td>1</td>\n",
       "      <td>1</td>\n",
       "      <td>0</td>\n",
       "      <td>1</td>\n",
       "      <td>0</td>\n",
       "      <td>0</td>\n",
       "      <td>1</td>\n",
       "      <td>1</td>\n",
       "      <td>8</td>\n",
       "      <td>1</td>\n",
       "    </tr>\n",
       "  </tbody>\n",
       "</table>\n",
       "</div>"
      ],
      "text/plain": [
       "   Store  Open  Promo  StateHoliday_1  StateHoliday_2  StateHoliday_3  \\\n",
       "0    371     1      1               0               1               0   \n",
       "1    372     1      1               0               1               0   \n",
       "2    373     1      1               0               1               0   \n",
       "3    380     1      1               0               1               0   \n",
       "4    374     1      1               0               1               0   \n",
       "\n",
       "   StateHoliday_4  SchoolHoliday  day  month  year  \n",
       "0               0              1    1      8     1  \n",
       "1               0              1    1      8     1  \n",
       "2               0              1    1      8     1  \n",
       "3               0              1    1      8     1  \n",
       "4               0              1    1      8     1  "
      ]
     },
     "execution_count": 146,
     "metadata": {},
     "output_type": "execute_result"
    }
   ],
   "source": [
    "holdout_data['Date'] = pd.to_datetime(holdout_data['Date'])\n",
    "holdout_data[\"day\"] = holdout_data['Date'].map(lambda x: x.day)\n",
    "holdout_data[\"month\"] = holdout_data['Date'].map(lambda x: x.month)\n",
    "holdout_data[\"year\"] =  holdout_data['Date'].map(lambda x: x.year)- 2013\n",
    "holdout_data = holdout_data.drop(labels=\"Date\", axis=1)\n",
    "holdout_data[\"StateHoliday\"].replace({0.0: \"0\"}, inplace=True)\n",
    "holdout_data_prep = holdout_data.drop(labels=[\"Customers\", \"DayOfWeek\", \"Id\"], axis=1)\n",
    "\n",
    "ce_one_holdout = ce_one.transform(holdout_data_prep)\n",
    "ce_one_holdout.head()"
   ]
  },
  {
   "cell_type": "code",
   "execution_count": 147,
   "id": "4471392a",
   "metadata": {},
   "outputs": [],
   "source": [
    "holdout_regression_predictions = linear_regression_model.predict(ce_one_holdout)"
   ]
  },
  {
   "cell_type": "code",
   "execution_count": 149,
   "id": "48f62bd9",
   "metadata": {},
   "outputs": [],
   "source": [
    "output = pd.DataFrame({'Id': holdout_data.Id, 'Sales': holdout_regression_predictions})\n",
    "output.to_csv('Submission.csv', index=False)"
   ]
  },
  {
   "cell_type": "code",
   "execution_count": 199,
   "id": "fa0cd164",
   "metadata": {},
   "outputs": [
    {
     "name": "stdout",
     "output_type": "stream",
     "text": [
      "   Id        Sales\n",
      "0   1  8712.527180\n",
      "1   2  8712.643430\n",
      "2   3  8712.759680\n",
      "3   4  8713.573431\n",
      "4   5  8712.875930\n"
     ]
    },
    {
     "data": {
      "text/plain": [
       "(315540, 2)"
      ]
     },
     "execution_count": 199,
     "metadata": {},
     "output_type": "execute_result"
    }
   ],
   "source": [
    "sub = pd.read_csv(\"Submission.csv\")\n",
    "print(sub.head())\n",
    "sub.shape"
   ]
  }
 ],
 "metadata": {
  "kernelspec": {
   "display_name": "mini_comp",
   "language": "python",
   "name": "mini_comp"
  },
  "language_info": {
   "codemirror_mode": {
    "name": "ipython",
    "version": 3
   },
   "file_extension": ".py",
   "mimetype": "text/x-python",
   "name": "python",
   "nbconvert_exporter": "python",
   "pygments_lexer": "ipython3",
   "version": "3.8.12"
  }
 },
 "nbformat": 4,
 "nbformat_minor": 5
}
