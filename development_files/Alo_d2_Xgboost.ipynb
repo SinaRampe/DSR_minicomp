{
 "cells": [
  {
   "cell_type": "markdown",
   "id": "5424fb61-971d-4248-9e3d-4f839d0e85dd",
   "metadata": {},
   "source": [
    "Goal: Run Sina_day 2 boosted trees model with Xgboost but with preprocessing of data as defined in the Alo notebook:\n",
    "\n",
    "X = Store, Day of week, Open, Promo, State holiday, School holiday (dropped columns: Date, Columns)\n",
    "y = Sales\n",
    "\n",
    "Encoding: BaseN"
   ]
  },
  {
   "cell_type": "code",
   "execution_count": 1,
   "id": "e412fede-d4f1-4fd8-97d2-ff7340a27c19",
   "metadata": {},
   "outputs": [],
   "source": [
    "from math import sqrt\n",
    "\n",
    "import category_encoders as ce\n",
    "import pandas as pd\n",
    "import xgboost as xgb\n",
    "from sklearn.metrics import mean_squared_error\n",
    "from xgboost import plot_importance"
   ]
  },
  {
   "cell_type": "markdown",
   "id": "e2583d7d-ca75-4e80-8948-115b91d736fc",
   "metadata": {
    "tags": []
   },
   "source": [
    "## Import Data"
   ]
  },
  {
   "cell_type": "code",
   "execution_count": 2,
   "id": "5ccbde85-0e82-495e-a8fc-5a793c704d53",
   "metadata": {
    "tags": []
   },
   "outputs": [
    {
     "name": "stderr",
     "output_type": "stream",
     "text": [
      "/Users/alois/opt/anaconda3/lib/python3.9/site-packages/IPython/core/interactiveshell.py:3444: DtypeWarning: Columns (7) have mixed types.Specify dtype option on import or set low_memory=False.\n",
      "  exec(code_obj, self.user_global_ns, self.user_ns)\n"
     ]
    }
   ],
   "source": [
    "train_data_original = pd.read_csv(\"../minicomp-rossman/data/train.csv\")\n",
    "store_data_original = pd.read_csv(\"../minicomp-rossman/data/store.csv\")"
   ]
  },
  {
   "cell_type": "markdown",
   "id": "82abf799-1685-43de-a451-dc134a19ca7a",
   "metadata": {},
   "source": [
    "## Preprocessing"
   ]
  },
  {
   "cell_type": "code",
   "execution_count": 3,
   "id": "b312a92b-6295-416d-989c-922f5d35920f",
   "metadata": {},
   "outputs": [],
   "source": [
    "# define dataset\n",
    "train_data = train_data_original.copy(deep=True)"
   ]
  },
  {
   "cell_type": "code",
   "execution_count": 4,
   "id": "00d7aa08-5353-4e0c-a799-85ea9c327839",
   "metadata": {},
   "outputs": [],
   "source": [
    "# drop 0's and null values for Sales\n",
    "\n",
    "train_data = train_data.loc[train_data.loc[:, \"Sales\"] != 0]\n",
    "\n",
    "null_sales = train_data.loc[train_data.loc[:, \"Sales\"].isnull()]\n",
    "train_data = train_data.loc[~train_data.index.isin(null_sales.index)]"
   ]
  },
  {
   "cell_type": "code",
   "execution_count": 5,
   "id": "b516225a-03a4-4e04-96a5-12d223402072",
   "metadata": {},
   "outputs": [],
   "source": [
    "# drop customer, date columns and rows with null values\n",
    "\n",
    "train_data = train_data.drop([\"Customers\", \"Date\"], axis=1)\n",
    "train_data = train_data.dropna()"
   ]
  },
  {
   "cell_type": "markdown",
   "id": "71d287cb-8228-4edd-b393-4aea11698d16",
   "metadata": {},
   "source": [
    "## Split train and test"
   ]
  },
  {
   "cell_type": "code",
   "execution_count": 6,
   "id": "06060076-b05e-4de6-bdf8-a575cb26f6ec",
   "metadata": {},
   "outputs": [],
   "source": [
    "# train = train_data.iloc[: int(0.8 * train_data.shape[0]), :]\n",
    "# eva = merged_train.iloc[int(0.8*train_data.shape[0]):int(0.8*train_data.shape[0]), :]\n",
    "# test = train_data.iloc[int(0.8 * train_data.shape[0]) :, :]"
   ]
  },
  {
   "cell_type": "code",
   "execution_count": 7,
   "id": "9cafa696-21ab-4e80-b311-e6a22fdfe7f1",
   "metadata": {},
   "outputs": [],
   "source": [
    "train = train_data.iloc[:int(0.9*train_data.shape[0]), :]\n",
    "eva = train_data.iloc[int(0.9*train_data.shape[0]):int(0.95*train_data.shape[0]), :]\n",
    "test = train_data.iloc[int(0.95*train_data.shape[0]):, :]"
   ]
  },
  {
   "cell_type": "code",
   "execution_count": 8,
   "id": "fcd1bd16-c7fc-499e-8364-334c4cb0ce90",
   "metadata": {},
   "outputs": [],
   "source": [
    "X_train = train.drop(columns=[\"Sales\"])\n",
    "y_train = train.loc[:, \"Sales\"]\n",
    "\n",
    "X_eva = train.drop(columns=[\"Sales\"])\n",
    "y_eva = train.loc[:, \"Sales\"]\n",
    "\n",
    "X_test = test.drop(columns=[\"Sales\"])\n",
    "y_test = test.loc[:, \"Sales\"]"
   ]
  },
  {
   "cell_type": "code",
   "execution_count": 9,
   "id": "9125e3a3-15a6-4bf6-a97a-2d9e6deafdda",
   "metadata": {},
   "outputs": [
    {
     "data": {
      "text/html": [
       "<div>\n",
       "<style scoped>\n",
       "    .dataframe tbody tr th:only-of-type {\n",
       "        vertical-align: middle;\n",
       "    }\n",
       "\n",
       "    .dataframe tbody tr th {\n",
       "        vertical-align: top;\n",
       "    }\n",
       "\n",
       "    .dataframe thead th {\n",
       "        text-align: right;\n",
       "    }\n",
       "</style>\n",
       "<table border=\"1\" class=\"dataframe\">\n",
       "  <thead>\n",
       "    <tr style=\"text-align: right;\">\n",
       "      <th></th>\n",
       "      <th>Store</th>\n",
       "      <th>DayOfWeek</th>\n",
       "      <th>Sales</th>\n",
       "      <th>Open</th>\n",
       "      <th>Promo</th>\n",
       "      <th>StateHoliday</th>\n",
       "      <th>SchoolHoliday</th>\n",
       "    </tr>\n",
       "  </thead>\n",
       "  <tbody>\n",
       "    <tr>\n",
       "      <th>27</th>\n",
       "      <td>353.0</td>\n",
       "      <td>2.0</td>\n",
       "      <td>3139.0</td>\n",
       "      <td>1.0</td>\n",
       "      <td>0.0</td>\n",
       "      <td>a</td>\n",
       "      <td>1.0</td>\n",
       "    </tr>\n",
       "    <tr>\n",
       "      <th>115</th>\n",
       "      <td>335.0</td>\n",
       "      <td>2.0</td>\n",
       "      <td>2401.0</td>\n",
       "      <td>1.0</td>\n",
       "      <td>0.0</td>\n",
       "      <td>a</td>\n",
       "      <td>1.0</td>\n",
       "    </tr>\n",
       "    <tr>\n",
       "      <th>147</th>\n",
       "      <td>512.0</td>\n",
       "      <td>2.0</td>\n",
       "      <td>2646.0</td>\n",
       "      <td>1.0</td>\n",
       "      <td>0.0</td>\n",
       "      <td>a</td>\n",
       "      <td>1.0</td>\n",
       "    </tr>\n",
       "    <tr>\n",
       "      <th>162</th>\n",
       "      <td>494.0</td>\n",
       "      <td>2.0</td>\n",
       "      <td>3113.0</td>\n",
       "      <td>1.0</td>\n",
       "      <td>0.0</td>\n",
       "      <td>a</td>\n",
       "      <td>1.0</td>\n",
       "    </tr>\n",
       "    <tr>\n",
       "      <th>199</th>\n",
       "      <td>530.0</td>\n",
       "      <td>2.0</td>\n",
       "      <td>2907.0</td>\n",
       "      <td>1.0</td>\n",
       "      <td>0.0</td>\n",
       "      <td>a</td>\n",
       "      <td>1.0</td>\n",
       "    </tr>\n",
       "  </tbody>\n",
       "</table>\n",
       "</div>"
      ],
      "text/plain": [
       "     Store  DayOfWeek   Sales  Open  Promo StateHoliday  SchoolHoliday\n",
       "27   353.0        2.0  3139.0   1.0    0.0            a            1.0\n",
       "115  335.0        2.0  2401.0   1.0    0.0            a            1.0\n",
       "147  512.0        2.0  2646.0   1.0    0.0            a            1.0\n",
       "162  494.0        2.0  3113.0   1.0    0.0            a            1.0\n",
       "199  530.0        2.0  2907.0   1.0    0.0            a            1.0"
      ]
     },
     "execution_count": 9,
     "metadata": {},
     "output_type": "execute_result"
    }
   ],
   "source": [
    "train_data.head()"
   ]
  },
  {
   "cell_type": "code",
   "execution_count": 10,
   "id": "f2ca4404-1c81-4bac-bf5b-4bee948544b3",
   "metadata": {
    "tags": []
   },
   "outputs": [],
   "source": [
    "# Encoding pipeline\n",
    "\n",
    "ce_basen = ce.BaseNEncoder(cols=[\"StateHoliday\"])\n",
    "X_train = ce_basen.fit_transform(X_train, y_train)\n",
    "X_test = ce_basen.transform(X_test)\n",
    "X_eva = ce_basen.transform(X_eva)"
   ]
  },
  {
   "cell_type": "code",
   "execution_count": 11,
   "id": "80ef9f47-de43-4b42-98a9-8b1290ad86c7",
   "metadata": {},
   "outputs": [
    {
     "data": {
      "text/html": [
       "<div>\n",
       "<style scoped>\n",
       "    .dataframe tbody tr th:only-of-type {\n",
       "        vertical-align: middle;\n",
       "    }\n",
       "\n",
       "    .dataframe tbody tr th {\n",
       "        vertical-align: top;\n",
       "    }\n",
       "\n",
       "    .dataframe thead th {\n",
       "        text-align: right;\n",
       "    }\n",
       "</style>\n",
       "<table border=\"1\" class=\"dataframe\">\n",
       "  <thead>\n",
       "    <tr style=\"text-align: right;\">\n",
       "      <th></th>\n",
       "      <th>Store</th>\n",
       "      <th>DayOfWeek</th>\n",
       "      <th>Open</th>\n",
       "      <th>Promo</th>\n",
       "      <th>StateHoliday_0</th>\n",
       "      <th>StateHoliday_1</th>\n",
       "      <th>StateHoliday_2</th>\n",
       "      <th>SchoolHoliday</th>\n",
       "    </tr>\n",
       "  </thead>\n",
       "  <tbody>\n",
       "    <tr>\n",
       "      <th>27</th>\n",
       "      <td>353.0</td>\n",
       "      <td>2.0</td>\n",
       "      <td>1.0</td>\n",
       "      <td>0.0</td>\n",
       "      <td>0</td>\n",
       "      <td>0</td>\n",
       "      <td>1</td>\n",
       "      <td>1.0</td>\n",
       "    </tr>\n",
       "    <tr>\n",
       "      <th>115</th>\n",
       "      <td>335.0</td>\n",
       "      <td>2.0</td>\n",
       "      <td>1.0</td>\n",
       "      <td>0.0</td>\n",
       "      <td>0</td>\n",
       "      <td>0</td>\n",
       "      <td>1</td>\n",
       "      <td>1.0</td>\n",
       "    </tr>\n",
       "    <tr>\n",
       "      <th>147</th>\n",
       "      <td>512.0</td>\n",
       "      <td>2.0</td>\n",
       "      <td>1.0</td>\n",
       "      <td>0.0</td>\n",
       "      <td>0</td>\n",
       "      <td>0</td>\n",
       "      <td>1</td>\n",
       "      <td>1.0</td>\n",
       "    </tr>\n",
       "    <tr>\n",
       "      <th>162</th>\n",
       "      <td>494.0</td>\n",
       "      <td>2.0</td>\n",
       "      <td>1.0</td>\n",
       "      <td>0.0</td>\n",
       "      <td>0</td>\n",
       "      <td>0</td>\n",
       "      <td>1</td>\n",
       "      <td>1.0</td>\n",
       "    </tr>\n",
       "    <tr>\n",
       "      <th>199</th>\n",
       "      <td>530.0</td>\n",
       "      <td>2.0</td>\n",
       "      <td>1.0</td>\n",
       "      <td>0.0</td>\n",
       "      <td>0</td>\n",
       "      <td>0</td>\n",
       "      <td>1</td>\n",
       "      <td>1.0</td>\n",
       "    </tr>\n",
       "  </tbody>\n",
       "</table>\n",
       "</div>"
      ],
      "text/plain": [
       "     Store  DayOfWeek  Open  Promo  StateHoliday_0  StateHoliday_1  \\\n",
       "27   353.0        2.0   1.0    0.0               0               0   \n",
       "115  335.0        2.0   1.0    0.0               0               0   \n",
       "147  512.0        2.0   1.0    0.0               0               0   \n",
       "162  494.0        2.0   1.0    0.0               0               0   \n",
       "199  530.0        2.0   1.0    0.0               0               0   \n",
       "\n",
       "     StateHoliday_2  SchoolHoliday  \n",
       "27                1            1.0  \n",
       "115               1            1.0  \n",
       "147               1            1.0  \n",
       "162               1            1.0  \n",
       "199               1            1.0  "
      ]
     },
     "execution_count": 11,
     "metadata": {},
     "output_type": "execute_result"
    }
   ],
   "source": [
    "X_train.head()"
   ]
  },
  {
   "cell_type": "markdown",
   "id": "b9777b28-a3a0-42cf-aa05-f15c9c456328",
   "metadata": {},
   "source": [
    "## Gradient Boosted Tree"
   ]
  },
  {
   "cell_type": "markdown",
   "id": "608d0211-608b-4345-a006-bf398c982da9",
   "metadata": {},
   "source": [
    "### Define metric"
   ]
  },
  {
   "cell_type": "code",
   "execution_count": 12,
   "id": "309b93b7-a490-4862-9e1b-5c8374dce3f5",
   "metadata": {},
   "outputs": [],
   "source": [
    "def compute_rmse(actual, prediction):\n",
    "    \"\"\"\n",
    "    Computs RMSE (root mean squared error) between predictions from a model\n",
    "    and the actual values of the target variable.\n",
    "    \"\"\"\n",
    "\n",
    "    rmse = sqrt(mean_squared_error(actual, prediction))\n",
    "\n",
    "    # rounding to 2 decimal places\n",
    "    print(\"RMSE is \", round(rmse, 2))\n",
    "\n",
    "    return rmse"
   ]
  },
  {
   "cell_type": "code",
   "execution_count": 13,
   "id": "72776167-dd06-4db3-9d0e-774ab4e5ff62",
   "metadata": {},
   "outputs": [],
   "source": [
    "target = \"Sales\"\n",
    "\n",
    "features = [\n",
    "    \"Store\",\n",
    "    \"DayOfWeek\",\n",
    "    \"Open\",\n",
    "    \"Promo\",\n",
    "    \"StateHoliday_0\",\n",
    "    \"StateHoliday_1\",\n",
    "    \"StateHoliday_2\",\n",
    "    \"SchoolHoliday\",\n",
    "]"
   ]
  },
  {
   "cell_type": "code",
   "execution_count": 14,
   "id": "b7e9ef40-f181-46d5-acfa-eb199837f57a",
   "metadata": {
    "tags": []
   },
   "outputs": [],
   "source": [
    "params = {\"objective\": \"reg:squarederror\", \"booster\": \"gbtree\", \"seed\": 10}"
   ]
  },
  {
   "cell_type": "code",
   "execution_count": 15,
   "id": "42ded9b4-0534-4ed3-9158-b6b274c1136c",
   "metadata": {},
   "outputs": [],
   "source": [
    "def xgboost_experiment(features_list, experiment_name, params, num_boost_round):\n",
    "    dtrain = xgb.DMatrix(X_train, label=y_train, enable_categorical=True)\n",
    "    deva = xgb.DMatrix(X_eva, label=y_eva)\n",
    "    dtest = xgb.DMatrix(X_test, label=y_test, enable_categorical=True)\n",
    "    \n",
    "    #train\n",
    "    xgb_model = xgb.train(params, dtrain, num_boost_round=num_boost_round, \n",
    "                      early_stopping_rounds=100, evals=[(deva, \"Eval\")], verbose_eval=False)\n",
    "\n",
    "    # make prediction\n",
    "    print('+++++ Results for experiment: ', experiment_name)\n",
    "    pred = xgb_model.predict(dtest)\n",
    "    print(\"Testerror\")\n",
    "    print(compute_rmse(y_test, pred) / y_test.mean())\n",
    "    pred = xgb_model.predict(dtrain)\n",
    "    print(\"Trainerror\")\n",
    "    compute_rmse(y_train, pred) \n",
    "    return xgb_model"
   ]
  },
  {
   "cell_type": "code",
   "execution_count": null,
   "id": "06f84f8b-8197-47b1-b34f-0bc1b091217c",
   "metadata": {},
   "outputs": [],
   "source": [
    "num_boost_round_list = [100, 1000]\n",
    "f = 'train table features'\n",
    "\n",
    "for n in num_boost_round_list:\n",
    "    print('### Experiment with ', str(n), ' boosting rounds')\n",
    "    xgboost_experiment(features, f, params, n)"
   ]
  },
  {
   "cell_type": "raw",
   "id": "89bb8e0d-bd2a-489b-8cab-02af2c9027ff",
   "metadata": {},
   "source": [
    "### Experiment with  100  boosting rounds\n",
    "+++++ Results for experiment:  features\n",
    "Testerror\n",
    "RMSE is  1583.56\n",
    "0.22289608816786546\n",
    "Trainerror\n",
    "RMSE is  1592.04\n",
    "### Experiment with  1000  boosting rounds\n",
    "+++++ Results for experiment:  features\n",
    "Testerror\n",
    "RMSE is  1222.24\n",
    "0.1720376347912245\n",
    "Trainerror\n",
    "RMSE is  1138.98"
   ]
  },
  {
   "cell_type": "code",
   "execution_count": null,
   "id": "3ea16991-86b8-4019-abc3-248e82fb74c7",
   "metadata": {},
   "outputs": [],
   "source": []
  }
 ],
 "metadata": {
  "kernelspec": {
   "display_name": "minicomp",
   "language": "python",
   "name": "minicomp"
  },
  "language_info": {
   "codemirror_mode": {
    "name": "ipython",
    "version": 3
   },
   "file_extension": ".py",
   "mimetype": "text/x-python",
   "name": "python",
   "nbconvert_exporter": "python",
   "pygments_lexer": "ipython3",
   "version": "3.9.7"
  }
 },
 "nbformat": 4,
 "nbformat_minor": 5
}
